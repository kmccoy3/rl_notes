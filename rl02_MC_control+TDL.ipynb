{
  "cells": [
    {
      "cell_type": "markdown",
      "id": "ef5236c5",
      "metadata": {
        "id": "ef5236c5"
      },
      "source": [
        "We first import necessary packages."
      ]
    },
    {
      "cell_type": "code",
      "execution_count": 1,
      "id": "47da24c4",
      "metadata": {
        "id": "47da24c4"
      },
      "outputs": [
        {
          "name": "stdout",
          "output_type": "stream",
          "text": [
            "Requirement already satisfied: gymnasium==0.29.0 in /opt/homebrew/anaconda3/lib/python3.9/site-packages (0.29.0)\n",
            "Requirement already satisfied: importlib-metadata>=4.8.0 in /opt/homebrew/anaconda3/lib/python3.9/site-packages (from gymnasium==0.29.0) (4.11.3)\n",
            "Requirement already satisfied: numpy>=1.21.0 in /opt/homebrew/anaconda3/lib/python3.9/site-packages (from gymnasium==0.29.0) (1.22.4)\n",
            "Requirement already satisfied: farama-notifications>=0.0.1 in /opt/homebrew/anaconda3/lib/python3.9/site-packages (from gymnasium==0.29.0) (0.0.4)\n",
            "Requirement already satisfied: typing-extensions>=4.3.0 in /opt/homebrew/anaconda3/lib/python3.9/site-packages (from gymnasium==0.29.0) (4.8.0)\n",
            "Requirement already satisfied: cloudpickle>=1.2.0 in /opt/homebrew/anaconda3/lib/python3.9/site-packages (from gymnasium==0.29.0) (2.0.0)\n",
            "Requirement already satisfied: zipp>=0.5 in /opt/homebrew/anaconda3/lib/python3.9/site-packages (from importlib-metadata>=4.8.0->gymnasium==0.29.0) (3.8.0)\n",
            "Requirement already satisfied: rlcard==1.0.9 in /opt/homebrew/anaconda3/lib/python3.9/site-packages (1.0.9)\n",
            "Requirement already satisfied: numpy>=1.16.3 in /opt/homebrew/anaconda3/lib/python3.9/site-packages (from rlcard==1.0.9) (1.22.4)\n",
            "Requirement already satisfied: termcolor in /opt/homebrew/anaconda3/lib/python3.9/site-packages (from rlcard==1.0.9) (2.0.1)\n"
          ]
        }
      ],
      "source": [
        "!pip install gymnasium==0.29.0\n",
        "!pip install rlcard==1.0.9"
      ]
    },
    {
      "cell_type": "code",
      "execution_count": 2,
      "id": "9808a557",
      "metadata": {
        "id": "9808a557"
      },
      "outputs": [],
      "source": [
        "import numpy as np\n",
        "\n",
        "import gymnasium as gym\n",
        "import rlcard\n",
        "\n",
        "import matplotlib.pyplot as plt"
      ]
    },
    {
      "cell_type": "markdown",
      "id": "cf420110",
      "metadata": {
        "id": "cf420110"
      },
      "source": [
        "# Blackjack\n",
        "Next, we instantiate the [Blackjack](https://rlcard.org/games.html#blackjack) game implemented as part of the [RL Card](https://rlcard.org/overview.html) toolkit and gain a quick understanding of its key variables and methods.\n",
        "\n",
        "Blackjack is a globally popular card game also known as Twenty-One. The objective of the player (agent) is to beat the dealer by reaching a higher score than the dealer without exceeding 21. All face cards (Jack, Queen, King) count as 10 and an ace can count either as 1 or 11. All remaining cards (2 through 10) count as the number shown on the card.\n",
        "\n",
        "The developers of RL Card toolkit have implemented a simple version of Blackjack. The game begins with two cards dealt to both the dealer and player. The player can see both of their cards but only one of the dealer's cards. In each round, the player has two options: `hit` which will add a card to their hand, and `stand` which will end their turn.\n",
        "\n",
        "The player will `bust` if their hands exceed 21 points. The player loses the game if they go bust. After the player completes their hands (chooses `stand` and has not busted), the dealer then reveals their hidden card and plays `hit` until obtaining at least 17 points. If the dealer goes bust, then the player wins; otherwise, the outcome is determined by whose final sum is closer to 21. The person whose final sum is closest to 21 wins the game. If both players have the same score than the game is tied. The RL Card environment models the player's rewards as -1 (lose), 0 (tie), or 1 (win) received at the end of the game.\n",
        "\n",
        "Follow the hyperlinks to learn more about the envionment [Blackjack](https://rlcard.org/games.html#blackjack) and its [source code](https://github.com/datamllab/rlcard/tree/master/rlcard)."
      ]
    },
    {
      "cell_type": "markdown",
      "id": "71025020",
      "metadata": {
        "id": "71025020"
      },
      "source": [
        "#### MDP Environment\n",
        "We first write a Gymnasium wrapper for the blackjack environment to represent it as a single-agent MDP. This allows us to use a similar syntax and environment API as that for Frozen Lake (and other Gymnasium environments)."
      ]
    },
    {
      "cell_type": "code",
      "execution_count": 3,
      "id": "320b0493",
      "metadata": {
        "id": "320b0493"
      },
      "outputs": [],
      "source": [
        "class BlackjackEnv(gym.Env):\n",
        "    \"\"\"Wraps Blackjack as an OpenAI Gym environment.\"\"\"\n",
        "\n",
        "    def __init__(self):\n",
        "        \"\"\"Defines Action and Observation Spaces for the environment\"\"\"\n",
        "        self._rlcard_env = rlcard.make('blackjack')\n",
        "        self.action_space = gym.spaces.Discrete(self._rlcard_env.num_actions)\n",
        "        self.observation_space = gym.spaces.Box(0, 31, shape=self._rlcard_env.state_shape[0], dtype=np.int32)\n",
        "\n",
        "    def seed(self, seed):\n",
        "        \"\"\"Seed for generation of random behavior.\"\"\"\n",
        "        self._rlcard_env.seed(seed)\n",
        "\n",
        "    def reset(self):\n",
        "        \"\"\"Resets the environment to an initial state and returns the initial observation.\"\"\"\n",
        "        obs, _ = self._rlcard_env.reset()\n",
        "        obs = tuple(obs[\"obs\"].tolist())\n",
        "        return obs\n",
        "\n",
        "    def step(self, action):\n",
        "        \"\"\"Run one timestep of the environment's dynamics.\n",
        "\n",
        "        Args:\n",
        "            action: an action provided by the agent\n",
        "\n",
        "        Returns:\n",
        "            observation: an observation provided by the environment\n",
        "            reward (float): the reward returned as a result of taking the action\n",
        "            terminated (bool): whether a terminal state is reached\n",
        "            info (dictionary): an empty dictionary to conform to gym.Env\n",
        "        \"\"\"\n",
        "        obs, _ = self._rlcard_env.step(action)\n",
        "        obs = tuple(obs[\"obs\"].tolist())\n",
        "        done = False\n",
        "        reward = 0.0\n",
        "        if self._rlcard_env.is_over():\n",
        "            done = True\n",
        "            reward = float(self._rlcard_env.get_payoffs()[0])\n",
        "        return obs, reward, done, {}"
      ]
    },
    {
      "cell_type": "code",
      "execution_count": 4,
      "id": "d24f41fc",
      "metadata": {
        "id": "d24f41fc"
      },
      "outputs": [],
      "source": [
        "env = BlackjackEnv()"
      ]
    },
    {
      "cell_type": "code",
      "execution_count": 5,
      "id": "a375948b",
      "metadata": {
        "id": "a375948b"
      },
      "outputs": [
        {
          "data": {
            "text/plain": [
              "Box(0, 31, (2,), int32)"
            ]
          },
          "execution_count": 5,
          "metadata": {},
          "output_type": "execute_result"
        }
      ],
      "source": [
        "env.observation_space"
      ]
    },
    {
      "cell_type": "markdown",
      "id": "72cdd9d4",
      "metadata": {
        "id": "72cdd9d4"
      },
      "source": [
        "#### States\n",
        "\n",
        "OpenAI Gymnasium environments do not explicitly provide state but instead provide observation. In the Blackjack environment, the state and observation are identical. In practice, the design of state can require some feature engineering for using RL techniques.\n",
        "\n",
        "In this environment, we design the state as an array of two features `[player_score, dealer_score]` where `player_score` is the score currently obtained by the player, and the `dealer_score` is derived from the card that faces up from the dealer. Think about why this is an appropriate definition of the state."
      ]
    },
    {
      "cell_type": "code",
      "execution_count": 6,
      "id": "d4cf421d",
      "metadata": {
        "id": "d4cf421d"
      },
      "outputs": [
        {
          "name": "stdout",
          "output_type": "stream",
          "text": [
            "Number of state features: (2,)\n",
            "Lowest value for the player_score feature: 0\n",
            "Highest value for the player_score feature: 31\n",
            "Lowest value for the dealer_score feature: 0\n",
            "Highest value for the dealer_score feature: 31\n"
          ]
        }
      ],
      "source": [
        "print(f\"Number of state features: {env.observation_space.shape}\")\n",
        "print(f\"Lowest value for the player_score feature: {env.observation_space.low[0]}\")\n",
        "print(f\"Highest value for the player_score feature: {env.observation_space.high[0]}\")\n",
        "print(f\"Lowest value for the dealer_score feature: {env.observation_space.low[1]}\")\n",
        "print(f\"Highest value for the dealer_score feature: {env.observation_space.high[1]}\")"
      ]
    },
    {
      "cell_type": "markdown",
      "id": "9e50dab3",
      "metadata": {
        "id": "9e50dab3"
      },
      "source": [
        "#### Actions\n",
        "There are two actions in the simple Blackjack. They are encoded as follows:\n",
        "- 0 denotes `hit` and\n",
        "- 1 denotes `stand`"
      ]
    },
    {
      "cell_type": "code",
      "execution_count": 7,
      "id": "7a16901d",
      "metadata": {
        "id": "7a16901d"
      },
      "outputs": [
        {
          "name": "stdout",
          "output_type": "stream",
          "text": [
            "Number of actions: 2\n"
          ]
        }
      ],
      "source": [
        "print(f\"Number of actions: {env.action_space.n}\")"
      ]
    },
    {
      "cell_type": "markdown",
      "id": "9af3c38b",
      "metadata": {
        "id": "9af3c38b"
      },
      "source": [
        "#### Transition and Reward Function\n",
        "\n",
        "The transition and reward functions for the Blackjack environment are not explicitly represented as matrices or tensors. This is typical for practical RL environments, as tabular representation of these functions can be memory intensive. Instead the gymnasium API provides access to the `step` method, which takes in as input an `action` and provides (among other things) an `observation` and `reward`. Also notice the `reset` method, which resets the MDP environment.\n",
        "\n",
        "The following snippet describes the use of `step` and `reset` methods."
      ]
    },
    {
      "cell_type": "code",
      "execution_count": 8,
      "id": "6674039e",
      "metadata": {
        "id": "6674039e"
      },
      "outputs": [
        {
          "name": "stdout",
          "output_type": "stream",
          "text": [
            "State: (18, 10)\n",
            "Action: 1\n",
            "Next state: (18, 21)\n",
            "Reward: -1.0\n"
          ]
        }
      ],
      "source": [
        "# Reset the environment\n",
        "state = env.reset()\n",
        "print(f\"State: {state}\")\n",
        "\n",
        "# Select a random action to play\n",
        "action = env.action_space.sample()\n",
        "print(f\"Action: {action}\")\n",
        "\n",
        "# Send this action to the environment to receive the next state and reward\n",
        "next_state, reward, episode_completed, _ = env.step(action)\n",
        "print(f\"Next state: {next_state}\")\n",
        "print(f\"Reward: {reward}\")"
      ]
    },
    {
      "cell_type": "markdown",
      "id": "bd457267",
      "metadata": {
        "id": "bd457267"
      },
      "source": [
        "#### Agent\n",
        "In the code snippet above, we chose a random action to play and then saw its effect. This code snippet demonstrates implementation of an agent that acts in the Blackjack environment based on a random policy. In practice, we want to do better than random by using the state information and RL algorithms to select a action that leads to maximum value.\n",
        "\n",
        "Your goal is in this problem is to design two such agents. One using Monte Carlo methods and the other using Temporal Difference methods. To help you design these agents, we provide an agent base class that includes helper methods to collect data from the environment."
      ]
    },
    {
      "cell_type": "code",
      "execution_count": 9,
      "id": "6080e000",
      "metadata": {
        "id": "6080e000"
      },
      "outputs": [],
      "source": [
        "class AgentBase:\n",
        "    def __init__(self, env):\n",
        "        self.env = env\n",
        "        self.num_actions = self.env.action_space.n\n",
        "        self.policy = self.make_policy()\n",
        "        self.behavior_policy = self.make_behavior_policy()\n",
        "\n",
        "    def make_policy(self):\n",
        "        \"\"\"\n",
        "        Return a policy function that will be used for evaluation. The policy\n",
        "        takes observation as input and return action\n",
        "        \"\"\"\n",
        "        raise NotImplementedError\n",
        "\n",
        "    def make_behavior_policy(self):\n",
        "        \"\"\"\n",
        "        Similar to make_policy, it returns a policy function. But this one used\n",
        "        for interaction with the environment.\n",
        "        \"\"\"\n",
        "        raise NotImplementedError\n",
        "\n",
        "    def run_episode(self, episode_policy):\n",
        "        \"\"\"\n",
        "        Generate one episode with the given policy\n",
        "        \"\"\"\n",
        "        episode = []\n",
        "        done = False\n",
        "        obs = self.env.reset()\n",
        "        episode_return = 0\n",
        "        while not done:\n",
        "            action = episode_policy(obs)\n",
        "            next_obs, reward, done, _ = self.env.step(action)\n",
        "            episode.append([obs, action, reward, next_obs, done])\n",
        "            obs = next_obs\n",
        "            episode_return += reward\n",
        "\n",
        "        return (episode, episode_return)\n",
        "\n",
        "    def evaluate(self, num_eval_episodes=1000, plot_title=\"Evaluation\"):\n",
        "        \"\"\"Evaluates the agent.\"\"\"\n",
        "        list_returns = []\n",
        "        list_average_returns = []\n",
        "        average_return = 0\n",
        "        for episode_idx in range(num_eval_episodes):\n",
        "            _, episode_return = self.run_episode(self.policy)\n",
        "            average_return += (1. / (episode_idx+1)) * (episode_return - average_return)\n",
        "            list_returns.append(episode_return)\n",
        "            list_average_returns.append(average_return)\n",
        "\n",
        "        print(f\"Average reward {round(average_return, 3)}\")\n",
        "        plt.plot(list_returns,'^',label=\"Return\")\n",
        "        plt.plot(list_average_returns,'r',label=\"Average Return\")\n",
        "        plt.ylabel('Return')\n",
        "        plt.xlabel('Episode#')\n",
        "        plt.title(plot_title)\n",
        "        plt.legend()\n",
        "        plt.ylim(-1.05, 1.05)\n",
        "        plt.show()"
      ]
    },
    {
      "cell_type": "markdown",
      "id": "52487802",
      "metadata": {
        "id": "52487802"
      },
      "source": [
        "# Problem 4\n",
        "\n",
        "Next, we will implement the first-visit Monte Carlo method to compute the optimal policy for Blackjack."
      ]
    },
    {
      "cell_type": "code",
      "execution_count": 34,
      "id": "6ca41e7d",
      "metadata": {
        "id": "6ca41e7d"
      },
      "outputs": [],
      "source": [
        "class MonteCarlo(AgentBase):\n",
        "    def __init__(self, env):\n",
        "        super().__init__(env=env)\n",
        "        self.gamma = 0.99 # Assume a discount factor of 0.99\n",
        "        \n",
        "\n",
        "        ######## PUT YOUR CODE HERE ########\n",
        "        # Put your required variable here\n",
        "\n",
        "        self.epsilon = 0.05\n",
        "\n",
        "        keys = [(i, j) for i in range(32) for j in range(32)]\n",
        "        values = [[0,0] for i in range(32) for j in range(32)]\n",
        "        self.Q = dict(zip(keys, values))\n",
        "\n",
        "        keys = [((i, j), k) for i in range(32) for j in range(32) for k in range(2)]\n",
        "        values = [list() for i in range(32) for j in range(32) for k in range(2)]\n",
        "        self.returns = dict(zip(keys, values))\n",
        "\n",
        "        ######## PUT YOUR CODE HERE ########\n",
        "\n",
        "    def make_policy(self):\n",
        "        def policy_func(observation):\n",
        "            ######## PUT YOUR CODE HERE ########\n",
        "\n",
        "            return np.argmax(self.Q[observation])\n",
        "\n",
        "            ######## PUT YOUR CODE HERE ########\n",
        "\n",
        "        return policy_func\n",
        "\n",
        "    def make_behavior_policy(self):\n",
        "        def policy_func(observation):\n",
        "            ######## PUT YOUR CODE HERE ########\n",
        "\n",
        "\n",
        "            # return 0 or 1\n",
        "            if np.random.rand() > self.epsilon/2:\n",
        "                return np.argmax(self.Q[observation])\n",
        "            else:\n",
        "                return np.argmin(self.Q[observation])\n",
        "\n",
        "            ######## PUT YOUR CODE HERE ########\n",
        "\n",
        "        return policy_func\n",
        "\n",
        "    def update(self, episode):\n",
        "        \"\"\"\n",
        "        Update the agent given episodes\n",
        "        \"\"\"\n",
        "        ######## PUT YOUR CODE HERE ########\n",
        "        # Calculate the discounted cumulative rewards\n",
        "        # Update using the First visit Monte Carlo algorithm\n",
        "\n",
        "        G = 0\n",
        "\n",
        "        # episode = [[obs, action, reward, next_obs, done], ...]\n",
        "\n",
        "        # s_a_pairs = list()\n",
        "        # T = len(episode)\n",
        "\n",
        "\n",
        "        for t, step in enumerate(reversed(episode)):\n",
        "            obs, action, reward, next_obs, done = step\n",
        "\n",
        "            G = self.gamma*G + reward\n",
        "\n",
        "            remaining_sa_pairs = [(episode[i][0], episode[i][1]) for i in range(0, t)]\n",
        "            if (obs, action) in remaining_sa_pairs:\n",
        "                pass\n",
        "            else:\n",
        "                self.returns[(obs, action)].append(G)\n",
        "                self.Q[obs][action] = np.mean(self.returns[(obs, action)])\n",
        "\n",
        "\n",
        "\n",
        "        \n",
        "\n",
        "        ######## PUT YOUR CODE HERE ########\n",
        "\n",
        "    def train(self, num_train_episodes, make_plot=False):\n",
        "        list_returns = []\n",
        "        list_average_returns = []\n",
        "        average_return = 0\n",
        "        for episode_idx in range(num_train_episodes):\n",
        "            # First, generate an episode with behavior policy\n",
        "            episode, episode_return = self.run_episode(self.behavior_policy)\n",
        "\n",
        "            # Second, update the policy with the data collected during the episode\n",
        "            self.update(episode)\n",
        "\n",
        "            # Store the return for evaluation\n",
        "            list_returns.append(episode_return)\n",
        "            average_return += (1. / (episode_idx+1)) * (episode_return - average_return)\n",
        "            list_average_returns.append(average_return)\n",
        "\n",
        "        if make_plot:\n",
        "            plt.plot(list_returns,'^',label=\"Return\")\n",
        "            plt.plot(list_average_returns,'r',label=\"Average Return\")\n",
        "            plt.ylabel('Return')\n",
        "            plt.xlabel('Episode#')\n",
        "            plt.title('Performance during training')\n",
        "            plt.legend()\n",
        "            plt.show()"
      ]
    },
    {
      "cell_type": "markdown",
      "id": "3ec4d257",
      "metadata": {
        "id": "3ec4d257"
      },
      "source": [
        "#### Grader Code\n",
        "Report the output of the grader code in your pdf submission."
      ]
    },
    {
      "cell_type": "code",
      "execution_count": 35,
      "id": "76efaa46",
      "metadata": {
        "id": "76efaa46"
      },
      "outputs": [],
      "source": [
        "env = BlackjackEnv()\n",
        "agent = MonteCarlo(env)"
      ]
    },
    {
      "cell_type": "code",
      "execution_count": 36,
      "id": "1e6c50ff",
      "metadata": {
        "id": "1e6c50ff"
      },
      "outputs": [
        {
          "name": "stdout",
          "output_type": "stream",
          "text": [
            "Average reward -1.0\n"
          ]
        },
        {
          "data": {
            "image/png": "[encoded data removed]",
            "text/plain": [
              "<Figure size 432x288 with 1 Axes>"
            ]
          },
          "metadata": {
            "needs_background": "light"
          },
          "output_type": "display_data"
        }
      ],
      "source": [
        "agent.evaluate(plot_title=\"Performance before training\")"
      ]
    },
    {
      "cell_type": "code",
      "execution_count": 37,
      "id": "250dbf00",
      "metadata": {
        "id": "250dbf00"
      },
      "outputs": [
        {
          "data": {
            "image/png": "[encoded data removed]",
            "text/plain": [
              "<Figure size 432x288 with 1 Axes>"
            ]
          },
          "metadata": {
            "needs_background": "light"
          },
          "output_type": "display_data"
        }
      ],
      "source": [
        "agent.train(50000, make_plot=True)"
      ]
    },
    {
      "cell_type": "code",
      "execution_count": 38,
      "id": "5aa85313",
      "metadata": {
        "id": "5aa85313"
      },
      "outputs": [
        {
          "name": "stdout",
          "output_type": "stream",
          "text": [
            "Average reward -0.098\n"
          ]
        },
        {
          "data": {
            "image/png": "[encoded data removed]",
            "text/plain": [
              "<Figure size 432x288 with 1 Axes>"
            ]
          },
          "metadata": {
            "needs_background": "light"
          },
          "output_type": "display_data"
        }
      ],
      "source": [
        "agent.evaluate(plot_title=\"Performance after training\")"
      ]
    },
    {
      "cell_type": "markdown",
      "id": "bfe9de96",
      "metadata": {
        "id": "bfe9de96"
      },
      "source": [
        "# Problem 5\n",
        "\n",
        "Next, we will implement the Q learning algorithm to compute the optimal policy for Blackjack."
      ]
    },
    {
      "cell_type": "code",
      "execution_count": 29,
      "id": "af355f7b",
      "metadata": {
        "id": "af355f7b"
      },
      "outputs": [],
      "source": [
        "class QLearning(AgentBase):\n",
        "    def __init__(self, env):\n",
        "        super().__init__(env=env)\n",
        "        self.gamma = 0.99 # Assume a discount factor of 0.99\n",
        "\n",
        "        ######## PUT YOUR CODE HERE ########\n",
        "        # Put your required variable here\n",
        "        self.epsilon = 0.05\n",
        "        self.alpha = 0.5\n",
        "\n",
        "        keys = [(i, j) for i in range(32) for j in range(32)]\n",
        "        values = [[0,0] for i in range(32) for j in range(32)]\n",
        "        self.Q = dict(zip(keys, values))\n",
        "\n",
        "        \n",
        "\n",
        "        ######## PUT YOUR CODE HERE ########\n",
        "\n",
        "    def make_policy(self):\n",
        "        def policy_func(observation):\n",
        "            ######## PUT YOUR CODE HERE ########\n",
        "\n",
        "            return np.argmax(self.Q[observation])\n",
        "\n",
        "            ######## PUT YOUR CODE HERE ########\n",
        "\n",
        "        return policy_func\n",
        "\n",
        "    def make_behavior_policy(self):\n",
        "        def policy_func(observation):\n",
        "            ######## PUT YOUR CODE HERE ########\n",
        "\n",
        "            if np.random.rand() > self.epsilon/2:\n",
        "                return np.argmax(self.Q[observation])\n",
        "            else:\n",
        "                return np.argmin(self.Q[observation])\n",
        "\n",
        "            ######## PUT YOUR CODE HERE ########\n",
        "\n",
        "        return policy_func\n",
        "\n",
        "    def update(self, state, action, next_state, reward):\n",
        "        ######## PUT YOUR CODE HERE ########\n",
        "        # Q learning\n",
        "\n",
        "        curr = self.Q[state][action]\n",
        "        self.Q[state][action] = curr + self.alpha*(reward + (self.gamma * np.max(self.Q[next_state])) - curr)\n",
        "\n",
        "        ######## PUT YOUR CODE HERE ########\n",
        "\n",
        "    def train(self, num_train_episodes, make_plot=False):\n",
        "        list_returns = []\n",
        "        list_average_returns = []\n",
        "        average_return = 0\n",
        "\n",
        "        for episode_idx in range(num_train_episodes):\n",
        "            # Reset environment before beginning the episode\n",
        "            done = False\n",
        "            state = self.env.reset()\n",
        "            episode_return = 0\n",
        "\n",
        "            # Run the episode and update the policy\n",
        "            while not done:\n",
        "                # First, generate a step with behavior policy\n",
        "                action = self.behavior_policy(state)\n",
        "                next_state, reward, done, _ = self.env.step(action)\n",
        "\n",
        "                # Second, update the policy\n",
        "                self.update(state, action, next_state, reward)\n",
        "\n",
        "                # Prepare for next step\n",
        "                state = next_state\n",
        "                episode_return += reward\n",
        "\n",
        "            # Store the return for evaluation\n",
        "            list_returns.append(episode_return)\n",
        "            average_return += (1. / (episode_idx+1)) * (episode_return - average_return)\n",
        "            list_average_returns.append(average_return)\n",
        "\n",
        "\n",
        "        if make_plot:\n",
        "            plt.plot(list_returns,'^',label=\"Return\")\n",
        "            plt.plot(list_average_returns,'r',label=\"Average Return\")\n",
        "            plt.ylabel('Return')\n",
        "            plt.xlabel('Episode#')\n",
        "            plt.title('Performance during training')\n",
        "            plt.legend()\n",
        "            plt.show()\n"
      ]
    },
    {
      "cell_type": "markdown",
      "id": "540d4189",
      "metadata": {
        "id": "540d4189"
      },
      "source": [
        "#### Grader Code\n",
        "Report the output of the grader code in your pdf submission."
      ]
    },
    {
      "cell_type": "code",
      "execution_count": 30,
      "id": "0ec80d90",
      "metadata": {
        "id": "0ec80d90"
      },
      "outputs": [],
      "source": [
        "env = BlackjackEnv()\n",
        "agent = QLearning(env)"
      ]
    },
    {
      "cell_type": "code",
      "execution_count": 31,
      "id": "36bf1d42",
      "metadata": {
        "id": "36bf1d42"
      },
      "outputs": [
        {
          "name": "stdout",
          "output_type": "stream",
          "text": [
            "Average reward -1.0\n"
          ]
        },
        {
          "data": {
            "image/png": "[encoded data removed]",
            "text/plain": [
              "<Figure size 432x288 with 1 Axes>"
            ]
          },
          "metadata": {
            "needs_background": "light"
          },
          "output_type": "display_data"
        }
      ],
      "source": [
        "agent.evaluate(plot_title=\"Performance before training\")"
      ]
    },
    {
      "cell_type": "code",
      "execution_count": 32,
      "id": "15e579e8",
      "metadata": {
        "id": "15e579e8"
      },
      "outputs": [
        {
          "data": {
            "image/png": "[encoded data removed]",
            "text/plain": [
              "<Figure size 432x288 with 1 Axes>"
            ]
          },
          "metadata": {
            "needs_background": "light"
          },
          "output_type": "display_data"
        }
      ],
      "source": [
        "agent.train(50000, make_plot=True)"
      ]
    },
    {
      "cell_type": "code",
      "execution_count": 33,
      "id": "81129047",
      "metadata": {
        "id": "81129047"
      },
      "outputs": [
        {
          "name": "stdout",
          "output_type": "stream",
          "text": [
            "Average reward -0.112\n"
          ]
        },
        {
          "data": {
            "image/png": "[encoded data removed]",
            "text/plain": [
              "<Figure size 432x288 with 1 Axes>"
            ]
          },
          "metadata": {
            "needs_background": "light"
          },
          "output_type": "display_data"
        }
      ],
      "source": [
        "agent.evaluate(plot_title=\"Performance after training\")"
      ]
    },
    {
      "cell_type": "code",
      "execution_count": null,
      "id": "5865467b",
      "metadata": {},
      "outputs": [],
      "source": []
    }
  ],
  "metadata": {
    "colab": {
      "provenance": []
    },
    "kernelspec": {
      "display_name": "Python 3 (ipykernel)",
      "language": "python",
      "name": "python3"
    },
    "language_info": {
      "codemirror_mode": {
        "name": "ipython",
        "version": 3
      },
      "file_extension": ".py",
      "mimetype": "text/x-python",
      "name": "python",
      "nbconvert_exporter": "python",
      "pygments_lexer": "ipython3",
      "version": "3.9.18"
    }
  },
  "nbformat": 4,
  "nbformat_minor": 5
}
