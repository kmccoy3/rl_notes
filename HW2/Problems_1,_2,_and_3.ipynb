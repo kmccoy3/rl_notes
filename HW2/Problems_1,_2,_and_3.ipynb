{
  "cells": [
    {
      "cell_type": "markdown",
      "id": "ef5236c5",
      "metadata": {
        "id": "ef5236c5"
      },
      "source": [
        "We first import necessary packages."
      ]
    },
    {
      "cell_type": "code",
      "execution_count": 120,
      "id": "82354b10",
      "metadata": {
        "id": "82354b10"
      },
      "outputs": [
        {
          "name": "stdout",
          "output_type": "stream",
          "text": [
            "Requirement already satisfied: gymnasium==0.29.0 in /opt/homebrew/anaconda3/lib/python3.9/site-packages (0.29.0)\n",
            "Requirement already satisfied: farama-notifications>=0.0.1 in /opt/homebrew/anaconda3/lib/python3.9/site-packages (from gymnasium==0.29.0) (0.0.4)\n",
            "Requirement already satisfied: importlib-metadata>=4.8.0 in /opt/homebrew/anaconda3/lib/python3.9/site-packages (from gymnasium==0.29.0) (4.11.3)\n",
            "Requirement already satisfied: numpy>=1.21.0 in /opt/homebrew/anaconda3/lib/python3.9/site-packages (from gymnasium==0.29.0) (1.22.4)\n",
            "Requirement already satisfied: cloudpickle>=1.2.0 in /opt/homebrew/anaconda3/lib/python3.9/site-packages (from gymnasium==0.29.0) (2.0.0)\n",
            "Requirement already satisfied: typing-extensions>=4.3.0 in /opt/homebrew/anaconda3/lib/python3.9/site-packages (from gymnasium==0.29.0) (4.8.0)\n",
            "Requirement already satisfied: zipp>=0.5 in /opt/homebrew/anaconda3/lib/python3.9/site-packages (from importlib-metadata>=4.8.0->gymnasium==0.29.0) (3.8.0)\n"
          ]
        }
      ],
      "source": [
        "!pip install gymnasium==0.29.0"
      ]
    },
    {
      "cell_type": "code",
      "execution_count": 121,
      "id": "9808a557",
      "metadata": {
        "id": "9808a557"
      },
      "outputs": [],
      "source": [
        "import numpy as np\n",
        "from numpy.testing import assert_almost_equal\n",
        "from numpy.testing import assert_equal\n",
        "\n",
        "import gymnasium as gym\n",
        "\n",
        "import pprint\n",
        "import matplotlib.pyplot as plt"
      ]
    },
    {
      "cell_type": "markdown",
      "id": "cf420110",
      "metadata": {
        "id": "cf420110"
      },
      "source": [
        "# Frozen Lake MDP\n",
        "Next, we instantiate the [Frozen Lake](https://gymnasium.farama.org/environments/toy_text/frozen_lake/) environment from OpenAI Gymnasium and gain a quick understanding of its key variables and methods.\n",
        "\n",
        "Frozen lake involves crossing a frozen lake from Start(S) to Goal(G) without falling into any Holes(H) by walking over the Frozen(F) lake. The agent may not always move in the intended direction due to the slippery nature of the frozen lake.\n",
        "\n",
        "Follow the hyperlinks to learn more about the envionment [Frozen Lake](https://gymnasium.farama.org/environments/toy_text/frozen_lake/) and its [source code](https://github.com/Farama-Foundation/Gymnasium/blob/main/gymnasium/envs/toy_text/frozen_lake.py). Here is a version of the Frozen Lake environment where the frozen lake is a grid of size 4x4."
      ]
    },
    {
      "cell_type": "markdown",
      "id": "a8d253f9",
      "metadata": {
        "id": "a8d253f9"
      },
      "source": [
        "![FrozenLakeGif](https://www.gymlibrary.dev/_images/frozen_lake.gif)"
      ]
    },
    {
      "cell_type": "code",
      "execution_count": 122,
      "id": "320b0493",
      "metadata": {
        "id": "320b0493"
      },
      "outputs": [],
      "source": [
        "env = gym.make(\"FrozenLake-v1\", is_slippery=True)"
      ]
    },
    {
      "cell_type": "code",
      "execution_count": 123,
      "id": "be3d70cc",
      "metadata": {
        "id": "be3d70cc",
        "scrolled": true
      },
      "outputs": [
        {
          "name": "stdout",
          "output_type": "stream",
          "text": [
            "Map:\n",
            "[['S' 'F' 'F' 'F']\n",
            " ['F' 'H' 'F' 'H']\n",
            " ['F' 'F' 'F' 'H']\n",
            " ['H' 'F' 'F' 'G']]\n"
          ]
        }
      ],
      "source": [
        "print(\"Map:\")\n",
        "print(env.unwrapped.desc.astype('U'))"
      ]
    },
    {
      "cell_type": "markdown",
      "id": "72cdd9d4",
      "metadata": {
        "id": "72cdd9d4"
      },
      "source": [
        "#### States\n",
        "\n",
        "OpenAI Gymnasium environments do not explicitly provide state but instead provide observation. In the Frozen Lake environment, the state and observation are identical. The state denotes the position of the agent."
      ]
    },
    {
      "cell_type": "code",
      "execution_count": 124,
      "id": "d4cf421d",
      "metadata": {
        "id": "d4cf421d"
      },
      "outputs": [
        {
          "name": "stdout",
          "output_type": "stream",
          "text": [
            "Number of states: 16\n"
          ]
        }
      ],
      "source": [
        "print(f\"Number of states: {env.observation_space.n}\")"
      ]
    },
    {
      "cell_type": "markdown",
      "id": "9e50dab3",
      "metadata": {
        "id": "9e50dab3"
      },
      "source": [
        "#### Actions"
      ]
    },
    {
      "cell_type": "code",
      "execution_count": 125,
      "id": "7a16901d",
      "metadata": {
        "id": "7a16901d"
      },
      "outputs": [
        {
          "name": "stdout",
          "output_type": "stream",
          "text": [
            "Number of actions: 4\n"
          ]
        }
      ],
      "source": [
        "print(f\"Number of actions: {env.action_space.n}\")"
      ]
    },
    {
      "cell_type": "markdown",
      "id": "9af3c38b",
      "metadata": {
        "id": "9af3c38b"
      },
      "source": [
        "#### Transition and Reward Function\n",
        "\n",
        "The transition and rewards functions for Frozen Lake environment is represented in a different format than the one we have seen in the class. They are represented as a unified nested dictionary (P) of the format:\n",
        "\n",
        "`{state: {action:\n",
        "    list of (probability, next state, next reward, is terminal)}}.`\n",
        "\n",
        "Let us first inspect this dictionary."
      ]
    },
    {
      "cell_type": "code",
      "execution_count": 126,
      "id": "hErmu37QLZR8",
      "metadata": {
        "id": "hErmu37QLZR8"
      },
      "outputs": [
        {
          "name": "stdout",
          "output_type": "stream",
          "text": [
            "Transition and Reward functions for state=0 and action=0:\n",
            "[(0.3333333333333333, 0, 0.0, False),\n",
            " (0.3333333333333333, 0, 0.0, False),\n",
            " (0.3333333333333333, 4, 0.0, False)]\n"
          ]
        }
      ],
      "source": [
        "print(f\"Transition and Reward functions for state=0 and action=0:\")\n",
        "pprint.pprint(env.unwrapped.P[0][0])"
      ]
    },
    {
      "cell_type": "markdown",
      "id": "03e63cd9",
      "metadata": {
        "id": "03e63cd9"
      },
      "source": [
        "Now, we will convert it to the format seen in the class."
      ]
    },
    {
      "cell_type": "code",
      "execution_count": 127,
      "id": "1a0121df",
      "metadata": {
        "id": "1a0121df"
      },
      "outputs": [],
      "source": [
        "def get_mdp_parameters(env):\n",
        "    \"\"\"Helper method to retrieve MDP parameters.\n",
        "\n",
        "    Args:\n",
        "        env: Instance of the Frozen Lake MDP environment.\n",
        "\n",
        "    Returns:\n",
        "        num_states: Int, number of states.\n",
        "        num_actions: Int, number of actions.\n",
        "        transition_fn: A numpy ndarray of shape (num_states, num_actions, num_states)\n",
        "            denoting the transition probabilities, T(s, a, s')\n",
        "        reward_fn: A numpy ndarray of shape (num_states, num_actions, num_states)\n",
        "            denoting the reward of R(s, a, s').\n",
        "    \"\"\"\n",
        "    # Number of states and actions\n",
        "    num_states = env.observation_space.n\n",
        "    num_actions = env.action_space.n\n",
        "\n",
        "    # Helper variable: mapping from state to grid type\n",
        "    flattened_map = env.unwrapped.desc.flatten()\n",
        "\n",
        "    # Initialize Transition and Reward functions\n",
        "    transition_fn = np.zeros(\n",
        "        shape=(num_states, num_actions, num_states))\n",
        "    reward_fn = np.zeros(\n",
        "        shape=(num_states, num_actions, num_states))\n",
        "\n",
        "    # Fill Transition and Reward functions\n",
        "    for s in range(num_states):\n",
        "        terminal = flattened_map[s] in [b\"H\", b\"G\"]\n",
        "        for a in range(num_actions):\n",
        "            if s is terminal:\n",
        "                transition_fn[s, a, s] = 1.\n",
        "                continue\n",
        "            for prob_next_s, next_s, r, _ in env.unwrapped.P[s][a]:\n",
        "                transition_fn[s, a, next_s] += prob_next_s\n",
        "                reward_fn[s, a, next_s] = r\n",
        "\n",
        "\n",
        "    # Ensure Transition function is indeed a probability distribution\n",
        "    for s in range(num_states):\n",
        "        for a in range(num_actions):\n",
        "            assert_almost_equal(transition_fn[s,a].sum(), 1., decimal=7)\n",
        "\n",
        "    # Return as a tuple\n",
        "    return (num_states, num_actions, transition_fn, reward_fn)"
      ]
    },
    {
      "cell_type": "code",
      "execution_count": 128,
      "id": "f05cf0b5",
      "metadata": {
        "id": "f05cf0b5"
      },
      "outputs": [],
      "source": [
        "num_states, num_actions, transition_fn, reward_fn = get_mdp_parameters(env)"
      ]
    },
    {
      "cell_type": "markdown",
      "id": "52487802",
      "metadata": {
        "id": "52487802"
      },
      "source": [
        "# Problem 1.2\n",
        "\n",
        "Next, we will write a program to compute the V-value of a given policy. See the starter code below and complete the missing parts. You can check your code using the tests below."
      ]
    },
    {
      "cell_type": "code",
      "execution_count": 129,
      "id": "6ca41e7d",
      "metadata": {
        "id": "6ca41e7d"
      },
      "outputs": [],
      "source": [
        "def policy_evaluation_v(policy, transition_fn, reward_fn, gamma=0.99, theta=1e-6):\n",
        "    \"\"\"Implements the policy evaluation algorithm to compute V values.\n",
        "\n",
        "    Args:\n",
        "        policy: A numpy ndarray of shape (num_states, num_actions) denoting\n",
        "            the probability of selecting an action (a) in a given state (s).\n",
        "        transition_fn: A numpy ndarray of shape (num_states, num_actions, num_states)\n",
        "            denoting the transition probabilities, T(s, a, s')\n",
        "        reward_fn: A numpy ndarray of shape (num_states, num_actions, num_states)\n",
        "            denoting the reward of R(s, a, s').\n",
        "        gamma: Discount factor.\n",
        "        theta: Threshold for terminating policy evaluation.\n",
        "\n",
        "    Returns:\n",
        "        v_value: A numpy array of shape (num_states) denoting the value\n",
        "            of state (s) for the given policy.\n",
        "    \"\"\"\n",
        "    # Ensure input dimensions are consistent.\n",
        "    num_states, num_actions, _ = transition_fn.shape\n",
        "    assert_equal(num_states, transition_fn.shape[2])\n",
        "    assert_equal(reward_fn.shape, transition_fn.shape)\n",
        "    assert_equal(policy.shape, (num_states, num_actions))\n",
        "\n",
        "    # Initialize value\n",
        "    v_value = np.zeros(shape=(num_states, ))\n",
        "\n",
        "    # Evaluate value\n",
        "    while True:\n",
        "        delta = 0\n",
        "        ######## PUT YOUR CODE HERE ########\n",
        "\n",
        "        # Loop through each state\n",
        "        for s in range(num_states):\n",
        "\n",
        "            # Save current value for state\n",
        "            current_v = v_value[s]\n",
        "\n",
        "            # Initialize outer sum\n",
        "            sum1 = 0\n",
        "\n",
        "            # Loop through actions\n",
        "            for a in range(num_actions):\n",
        "\n",
        "                # Initialize inner sum\n",
        "                sum2 = 0\n",
        "\n",
        "                # Loop through inner sum\n",
        "                for s_prime, prob in enumerate(transition_fn[s, a, :]):\n",
        "\n",
        "                    # Calculate inner sum\n",
        "                    sum2 += prob * (reward_fn[s, a, s_prime] + gamma*v_value[s_prime])\n",
        "\n",
        "                # Calculate outer sum\n",
        "                sum1 += policy[s, a] * sum2\n",
        "\n",
        "            # Set new value for state    \n",
        "            v_value[s] = sum1\n",
        "\n",
        "            # Calculate delta\n",
        "            delta = max(delta, np.abs(current_v - v_value[s]))\n",
        "            \n",
        "        ######## PUT YOUR CODE HERE ########\n",
        "        if delta < theta:\n",
        "            break\n",
        "\n",
        "    return v_value"
      ]
    },
    {
      "cell_type": "code",
      "execution_count": 130,
      "id": "733f7888",
      "metadata": {},
      "outputs": [
        {
          "data": {
            "text/plain": [
              "array([0.66666667, 0.        , 0.        , 0.        , 0.33333333,\n",
              "       0.        , 0.        , 0.        , 0.        , 0.        ,\n",
              "       0.        , 0.        , 0.        , 0.        , 0.        ,\n",
              "       0.        ])"
            ]
          },
          "execution_count": 130,
          "metadata": {},
          "output_type": "execute_result"
        }
      ],
      "source": [
        "transition_fn[0,0, :]"
      ]
    },
    {
      "cell_type": "markdown",
      "id": "e99b3f96",
      "metadata": {
        "id": "e99b3f96"
      },
      "source": [
        "#### Test Code\n",
        "You can use the test code to check and develop your solution."
      ]
    },
    {
      "cell_type": "code",
      "execution_count": 131,
      "id": "e5b5bc56",
      "metadata": {
        "id": "e5b5bc56"
      },
      "outputs": [],
      "source": [
        "def test_policy_evaluation_v(test_policy, test_v_value, transition_fn, reward_fn, test_policy_name):\n",
        "    \"\"\"Test code for policy evaluation of V values.\"\"\"\n",
        "    v_value = policy_evaluation_v(test_policy, transition_fn, reward_fn)\n",
        "    try:\n",
        "        assert_almost_equal(v_value, test_v_value, decimal=2)\n",
        "    except AssertionError:\n",
        "        print(\"The V value of \" + test_policy_name + \" is incorrect.\")\n",
        "    else:\n",
        "        print(\"The V value of \" + test_policy_name + \" is correct to at least 2 decimal values.\")"
      ]
    },
    {
      "cell_type": "code",
      "execution_count": 132,
      "id": "d8c7295c",
      "metadata": {},
      "outputs": [
        {
          "ename": "NameError",
          "evalue": "name 'a_test_policy' is not defined",
          "output_type": "error",
          "traceback": [
            "\u001b[0;31m---------------------------------------------------------------------------\u001b[0m",
            "\u001b[0;31mNameError\u001b[0m                                 Traceback (most recent call last)",
            "\u001b[1;32m/Users/kmm12/Documents/documents-main/school/rice/fall_2023/comp_552/HW2/Problems_1,_2,_and_3.ipynb Cell 22\u001b[0m line \u001b[0;36m<cell line: 1>\u001b[0;34m()\u001b[0m\n\u001b[0;32m----> <a href='vscode-notebook-cell:/Users/kmm12/Documents/documents-main/school/rice/fall_2023/comp_552/HW2/Problems_1%2C_2%2C_and_3.ipynb#X30sZmlsZQ%3D%3D?line=0'>1</a>\u001b[0m policy_evaluation_v(a_test_policy, transition_fn, reward_fn)\n",
            "\u001b[0;31mNameError\u001b[0m: name 'a_test_policy' is not defined"
          ]
        }
      ],
      "source": [
        "policy_evaluation_v(a_test_policy, transition_fn, reward_fn)"
      ]
    },
    {
      "cell_type": "code",
      "execution_count": 133,
      "id": "a873941d",
      "metadata": {
        "id": "a873941d"
      },
      "outputs": [
        {
          "name": "stdout",
          "output_type": "stream",
          "text": [
            "The V value of policy A is correct to at least 2 decimal values.\n"
          ]
        }
      ],
      "source": [
        "a_test_policy = np.full(fill_value=1. / num_actions, shape=(num_states, num_actions))\n",
        "a_test_v_value = np.array(\n",
        "        [0.01235356, 0.01042298, 0.01933735, 0.00947697,\n",
        "         0.01478582, 0.        , 0.03889412, 0.        ,\n",
        "         0.0326019 , 0.08433739, 0.13781067, 0.        ,\n",
        "         0.        , 0.17034467, 0.43357932, 0.        ])\n",
        "test_policy_evaluation_v(a_test_policy, a_test_v_value, transition_fn, reward_fn, \"policy A\")"
      ]
    },
    {
      "cell_type": "code",
      "execution_count": 134,
      "id": "c8d53c12",
      "metadata": {
        "id": "c8d53c12"
      },
      "outputs": [
        {
          "name": "stdout",
          "output_type": "stream",
          "text": [
            "The V value of policy B is correct to at least 2 decimal values.\n"
          ]
        }
      ],
      "source": [
        "b_test_policy  = np.zeros(shape=(num_states, num_actions))\n",
        "b_test_policy[:,2] = 1.\n",
        "b_test_v_value = np.array(\n",
        "        [0.02883834, 0.02218502, 0.04504254, 0.        ,\n",
        "         0.03636706, 0.        , 0.09145015, 0.        ,\n",
        "         0.0813651 , 0.21019397, 0.23207916, 0.        ,\n",
        "         0.        , 0.40487249, 0.61182007, 0.        ])\n",
        "test_policy_evaluation_v(b_test_policy, b_test_v_value, transition_fn, reward_fn, \"policy B\")"
      ]
    },
    {
      "cell_type": "code",
      "execution_count": 135,
      "id": "90469e4c",
      "metadata": {
        "id": "90469e4c"
      },
      "outputs": [
        {
          "name": "stdout",
          "output_type": "stream",
          "text": [
            "The V value of policy C is correct to at least 2 decimal values.\n"
          ]
        }
      ],
      "source": [
        "c_test_policy  = np.zeros(shape=(num_states, num_actions))\n",
        "c_test_policy[:,0] = 1.\n",
        "c_test_v_value = np.zeros(shape=(num_states, ))\n",
        "test_policy_evaluation_v(c_test_policy, c_test_v_value, transition_fn, reward_fn, \"policy C\")"
      ]
    },
    {
      "cell_type": "markdown",
      "id": "3ec4d257",
      "metadata": {
        "id": "3ec4d257"
      },
      "source": [
        "#### Grader Code\n",
        "Report the output of the grader code in your pdf submission."
      ]
    },
    {
      "cell_type": "code",
      "execution_count": 136,
      "id": "5aa85313",
      "metadata": {
        "id": "5aa85313"
      },
      "outputs": [
        {
          "name": "stdout",
          "output_type": "stream",
          "text": [
            "The V value of policy A is correct to at least 2 decimal values.\n",
            "The V value of policy B is correct to at least 2 decimal values.\n",
            "The V value of policy C is correct to at least 2 decimal values.\n"
          ]
        }
      ],
      "source": [
        "test_policy_evaluation_v(a_test_policy, a_test_v_value, transition_fn, reward_fn, \"policy A\")\n",
        "test_policy_evaluation_v(b_test_policy, b_test_v_value, transition_fn, reward_fn, \"policy B\")\n",
        "test_policy_evaluation_v(c_test_policy, c_test_v_value, transition_fn, reward_fn, \"policy C\")"
      ]
    },
    {
      "cell_type": "code",
      "execution_count": 137,
      "id": "77e3ef0c",
      "metadata": {
        "id": "77e3ef0c"
      },
      "outputs": [
        {
          "data": {
            "image/png": "[encoded data removed]",
            "text/plain": [
              "<Figure size 720x720 with 1 Axes>"
            ]
          },
          "metadata": {
            "needs_background": "light"
          },
          "output_type": "display_data"
        }
      ],
      "source": [
        "def plot_grader_v_value():\n",
        "    grader_policy = np.zeros(shape=(num_states, num_actions))\n",
        "    grader_policy[ 0:12, 1] = 1.\n",
        "    grader_policy[12:16, 2] = 1.\n",
        "    grader_v_value = policy_evaluation_v(grader_policy, transition_fn, reward_fn)\n",
        "\n",
        "    fig, ax = plt.subplots()\n",
        "    im = ax.imshow(grader_v_value.reshape((1, num_states)), cmap=\"viridis\")\n",
        "\n",
        "    ax.set_xticks(np.arange(num_states))\n",
        "\n",
        "    for s in range(num_states):\n",
        "        text = ax.text(s, 0, round(grader_v_value[s],3), ha=\"center\", va=\"center\", color=\"w\", fontsize=10)\n",
        "\n",
        "    ax.set_title('V Value of Grader Policy')\n",
        "    fig.set_size_inches(10., 10.)\n",
        "    fig.tight_layout()\n",
        "    plt.xlabel('State')\n",
        "    plt.ylabel('Value')\n",
        "    plt.show()\n",
        "\n",
        "plot_grader_v_value()"
      ]
    },
    {
      "cell_type": "markdown",
      "id": "bfe9de96",
      "metadata": {
        "id": "bfe9de96"
      },
      "source": [
        "# Problem 1.3\n",
        "\n",
        "Next, we will write a program to compute the q value of a policy."
      ]
    },
    {
      "cell_type": "code",
      "execution_count": 138,
      "id": "af355f7b",
      "metadata": {
        "id": "af355f7b"
      },
      "outputs": [],
      "source": [
        "def policy_evaluation_q(policy, transition_fn, reward_fn, gamma=0.99, theta=1e-6):\n",
        "    \"\"\"Implements the policy evaluation algorithm to compute Q values.\n",
        "\n",
        "    Args:\n",
        "        policy: A numpy ndarray of shape (num_states, num_actions) denoting\n",
        "            the probability of selecting an action (a) in a given state (s).\n",
        "        transition_fn: A numpy ndarray of shape (num_states, num_actions, num_states)\n",
        "            denoting the transition probabilities, T(s, a, s')\n",
        "        reward_fn: A numpy ndarray of shape (num_states, num_actions, num_states)\n",
        "            denoting the reward of R(s, a, s').\n",
        "        gamma: Discount factor.\n",
        "        theta: Threshold for terminating policy evaluation.\n",
        "\n",
        "    Returns:\n",
        "        q_value: A numpy ndarray of shape (num_states, num_actions) denoting the value\n",
        "            of state (s) for the given policy.\n",
        "    \"\"\"\n",
        "    # Ensure input dimensions are consistent.\n",
        "    num_states, num_actions, _ = transition_fn.shape\n",
        "    assert_equal(num_states, transition_fn.shape[2])\n",
        "    assert_equal(reward_fn.shape, transition_fn.shape)\n",
        "    assert_equal(policy.shape, (num_states, num_actions))\n",
        "\n",
        "    # Initialize value\n",
        "    q_value = np.zeros(shape=(num_states, num_actions))\n",
        "\n",
        "    # First, we compute V value\n",
        "    v_value = policy_evaluation_v(policy,\n",
        "                                  transition_fn,\n",
        "                                  reward_fn,\n",
        "                                  gamma,\n",
        "                                  theta)\n",
        "\n",
        "    # Then, we use the relation between V and Q to obtain Q value.\n",
        "    ######## PUT YOUR CODE HERE ########\n",
        "\n",
        "    # Loop through each state and action\n",
        "    for s in range(num_states):\n",
        "        for a in range(num_actions):\n",
        "\n",
        "            # Initialize sum\n",
        "            sum3 = 0\n",
        "\n",
        "            # Loop through each next possible state\n",
        "            for s_prime, prob in enumerate(transition_fn[s, a, :]):\n",
        "\n",
        "                # Calculate sum\n",
        "                sum3 += prob * v_value[s_prime]\n",
        "\n",
        "            # Update q_value\n",
        "            q_value[s, a] = sum(np.multiply(reward_fn[s, a, :], transition_fn[s, a, :])) + (gamma * sum3)\n",
        "\n",
        "\n",
        "    ######## PUT YOUR CODE HERE ########\n",
        "\n",
        "    return q_value"
      ]
    },
    {
      "cell_type": "markdown",
      "id": "77ece783",
      "metadata": {
        "id": "77ece783"
      },
      "source": [
        "#### Test Code\n",
        "You can use the test code to check and develop your solution."
      ]
    },
    {
      "cell_type": "code",
      "execution_count": 139,
      "id": "b0254221",
      "metadata": {
        "id": "b0254221"
      },
      "outputs": [],
      "source": [
        "def test_policy_evaluation_q(test_policy, test_q_value, transition_fn, reward_fn, test_policy_name):\n",
        "    \"\"\"Test code for policy evaluation of Q values.\"\"\"\n",
        "    q_value = policy_evaluation_q(test_policy, transition_fn, reward_fn)\n",
        "    try:\n",
        "        assert_almost_equal(q_value, test_q_value, decimal=2)\n",
        "    except AssertionError:\n",
        "        print(\"The Q value of \" + test_policy_name + \" is incorrect.\")\n",
        "    else:\n",
        "        print(\"The Q value of \" + test_policy_name + \" is correct to at least 2 decimal values.\")"
      ]
    },
    {
      "cell_type": "code",
      "execution_count": 140,
      "id": "047a79e5",
      "metadata": {
        "id": "047a79e5"
      },
      "outputs": [
        {
          "name": "stdout",
          "output_type": "stream",
          "text": [
            "The Q value of policy A is correct to at least 2 decimal values.\n"
          ]
        }
      ],
      "source": [
        "a_test_policy = np.full(fill_value=1. / num_actions, shape=(num_states, num_actions))\n",
        "a_test_q_value = np.array(\n",
        "      [[0.01303267, 0.01239558, 0.01239558, 0.01159293],\n",
        "       [0.00751626, 0.010458  , 0.00982091, 0.01389758],\n",
        "       [0.02265597, 0.01940204, 0.02234378, 0.01294831],\n",
        "       [0.00950873, 0.00950873, 0.0062548 , 0.01263612],\n",
        "       [0.01971462, 0.01563795, 0.0148353 , 0.00895599],\n",
        "       [0.        , 0.        , 0.        , 0.        ],\n",
        "       [0.05185885, 0.04547752, 0.05185885, 0.00638133],\n",
        "       [0.        , 0.        , 0.        , 0.        ],\n",
        "       [0.01563795, 0.03858996, 0.03271066, 0.04346928],\n",
        "       [0.06697237, 0.11244989, 0.10169126, 0.05623615],\n",
        "       [0.18374757, 0.17091251, 0.15591623, 0.0406664 ],\n",
        "       [0.        , 0.        , 0.        , 0.        ],\n",
        "       [0.        , 0.        , 0.        , 0.        ],\n",
        "       [0.08404508, 0.19929491, 0.22712625, 0.17091251],\n",
        "       [0.24477244, 0.53262825, 0.52189203, 0.43502459],\n",
        "       [0.        , 0.        , 0.        , 0.        ]])\n",
        "test_policy_evaluation_q(a_test_policy, a_test_q_value, transition_fn, reward_fn, \"policy A\")"
      ]
    },
    {
      "cell_type": "code",
      "execution_count": 141,
      "id": "72f3e9a5",
      "metadata": {
        "id": "72f3e9a5"
      },
      "outputs": [
        {
          "name": "stdout",
          "output_type": "stream",
          "text": [
            "The Q value of policy B is correct to at least 2 decimal values.\n"
          ]
        }
      ],
      "source": [
        "b_test_policy  = np.zeros(shape=(num_states, num_actions))\n",
        "b_test_policy[:,2] = 1.\n",
        "b_test_q_value = np.array(\n",
        "       [[0.03103443, 0.02883884, 0.02883884, 0.02635436],\n",
        "        [0.01683771, 0.02438069, 0.02218509, 0.03170175],\n",
        "        [0.05236364, 0.03749961, 0.04504259, 0.02218509],\n",
        "        [0.01486404, 0.01486404, 0.        , 0.01486404],\n",
        "        [0.04836826, 0.03885161, 0.03636713, 0.02151778],\n",
        "        [0.        , 0.        , 0.        , 0.        ],\n",
        "        [0.09145016, 0.07658612, 0.09145016, 0.01486404],\n",
        "        [0.        , 0.        , 0.        , 0.        ],\n",
        "        [0.03885161, 0.09621449, 0.08136514, 0.10821562],\n",
        "        [0.1604584 , 0.23704453, 0.21019404, 0.1034366 ],\n",
        "        [0.30144318, 0.27126463, 0.23207917, 0.09954256],\n",
        "        [0.        , 0.        , 0.        , 0.        ],\n",
        "        [0.        , 0.        , 0.        , 0.        ],\n",
        "        [0.20297193, 0.33550854, 0.40487255, 0.27126463],\n",
        "        [0.41209467, 0.66884188, 0.61182008, 0.54352738],\n",
        "        [0.        , 0.        , 0.        , 0.        ]])\n",
        "test_policy_evaluation_q(b_test_policy, b_test_q_value, transition_fn, reward_fn, \"policy B\")"
      ]
    },
    {
      "cell_type": "code",
      "execution_count": 142,
      "id": "e593f2fc",
      "metadata": {
        "id": "e593f2fc"
      },
      "outputs": [
        {
          "name": "stdout",
          "output_type": "stream",
          "text": [
            "The Q value of policy C is correct to at least 2 decimal values.\n"
          ]
        }
      ],
      "source": [
        "c_test_policy  = np.zeros(shape=(num_states, num_actions))\n",
        "c_test_policy[:,1] = 0.\n",
        "c_test_q_value = np.zeros(shape=(num_states, num_actions))\n",
        "c_test_q_value[14,1:4] = 1./3.\n",
        "test_policy_evaluation_q(c_test_policy, c_test_q_value, transition_fn, reward_fn, \"policy C\")"
      ]
    },
    {
      "cell_type": "markdown",
      "id": "540d4189",
      "metadata": {
        "id": "540d4189"
      },
      "source": [
        "#### Grader Code\n",
        "Report the output of the grader code in your pdf submission."
      ]
    },
    {
      "cell_type": "code",
      "execution_count": 143,
      "id": "9cb7b31b",
      "metadata": {
        "id": "9cb7b31b"
      },
      "outputs": [
        {
          "name": "stdout",
          "output_type": "stream",
          "text": [
            "The Q value of policy A is correct to at least 2 decimal values.\n",
            "The Q value of policy B is correct to at least 2 decimal values.\n",
            "The Q value of policy C is correct to at least 2 decimal values.\n"
          ]
        }
      ],
      "source": [
        "test_policy_evaluation_q(a_test_policy, a_test_q_value, transition_fn, reward_fn, \"policy A\")\n",
        "test_policy_evaluation_q(b_test_policy, b_test_q_value, transition_fn, reward_fn, \"policy B\")\n",
        "test_policy_evaluation_q(c_test_policy, c_test_q_value, transition_fn, reward_fn, \"policy C\")"
      ]
    },
    {
      "cell_type": "code",
      "execution_count": 144,
      "id": "6fd0b9fa",
      "metadata": {
        "id": "6fd0b9fa"
      },
      "outputs": [
        {
          "data": {
            "image/png": "[encoded data removed]",
            "text/plain": [
              "<Figure size 720x720 with 1 Axes>"
            ]
          },
          "metadata": {
            "needs_background": "light"
          },
          "output_type": "display_data"
        }
      ],
      "source": [
        "def plot_grader_q_value():\n",
        "    grader_policy = np.zeros(shape=(num_states, num_actions))\n",
        "    grader_policy[ 0:12, 1] = 1.\n",
        "    grader_policy[12:16, 2] = 1.\n",
        "    grader_q_value = policy_evaluation_q(grader_policy, transition_fn, reward_fn)\n",
        "\n",
        "    fig, ax = plt.subplots()\n",
        "    im = ax.imshow(grader_q_value.transpose(), cmap=\"viridis\")\n",
        "\n",
        "    ax.set_yticks(np.arange(num_actions))\n",
        "    ax.set_xticks(np.arange(num_states))\n",
        "\n",
        "    for s in range(num_states):\n",
        "        for a in range(num_actions):\n",
        "            text = ax.text(s, a, round(grader_q_value[s,a],3), ha=\"center\", va=\"center\", color=\"w\", fontsize=10)\n",
        "\n",
        "    ax.set_title('Q Value of Grader Policy')\n",
        "    fig.set_size_inches(10., 10.)\n",
        "    fig.tight_layout()\n",
        "    plt.xlabel('Action')\n",
        "    plt.ylabel('State')\n",
        "    plt.show()\n",
        "\n",
        "plot_grader_q_value()"
      ]
    },
    {
      "cell_type": "markdown",
      "id": "53145a97",
      "metadata": {
        "id": "53145a97"
      },
      "source": [
        "# Problem 2.1\n",
        "\n",
        "In this problem, we will use the value iteration algorithm to compute the optimal policy."
      ]
    },
    {
      "cell_type": "code",
      "execution_count": 145,
      "id": "3785577e",
      "metadata": {
        "id": "3785577e"
      },
      "outputs": [],
      "source": [
        "def value_iteration(transition_fn, reward_fn, gamma=0.99, theta=1e-6):\n",
        "    \"\"\"Implements the value iteration algorithm.\n",
        "\n",
        "    Args:\n",
        "        transition_fn: A numpy ndarray of shape (num_states, num_actions, num_states)\n",
        "            denoting the transition probabilities, T(s, a, s')\n",
        "        reward_fn: A numpy ndarray of shape (num_states, num_actions, num_states)\n",
        "            denoting the reward of R(s, a, s').\n",
        "        gamma: Discount factor.\n",
        "        theta: Threshold for terminating policy evaluation.\n",
        "\n",
        "    Returns:\n",
        "        optimal_policy: A numpy ndarray of shape (num_states, num_actions) denoting\n",
        "            the probability of selecting an action (a) in a given state (s).\n",
        "        optimal_v_value: A numpy ndarray of shape (num_states, ) denoting\n",
        "            the optimal value of each state (s).\n",
        "    \"\"\"\n",
        "    # Ensure input dimensions are consistent.\n",
        "    num_states, num_actions, _ = transition_fn.shape\n",
        "    assert_equal(num_states, transition_fn.shape[2])\n",
        "    assert_equal(reward_fn.shape, transition_fn.shape)\n",
        "\n",
        "    # Initialize value\n",
        "    v_value = np.zeros(shape=(num_states, ))\n",
        "\n",
        "    delta_list = list()\n",
        "    delta_list2 = list()\n",
        "\n",
        "    # Perform value iteration to compute optimal V\n",
        "    num_iteration = 0\n",
        "    while True:\n",
        "        delta = 0\n",
        "        delta2 = 0 \n",
        "        ######## PUT YOUR CODE HERE ########\n",
        "\n",
        "        \n",
        "\n",
        "        # Loop through each state\n",
        "        for s in range(num_states):\n",
        "            # Save current value for state\n",
        "            current_v = v_value[s]\n",
        "            # Initialize outer sum\n",
        "            list1 = list()\n",
        "            # Loop through actions\n",
        "            for a in range(num_actions):\n",
        "\n",
        "                sum4 = sum(np.multiply(transition_fn[s, a, :], (reward_fn[s, a, :] + gamma*v_value[:])))\n",
        "\n",
        "                \n",
        "                list1.append(sum4)\n",
        "\n",
        "            # Set new value for state    \n",
        "            v_value[s] = max(list1)\n",
        "            # Calculate delta\n",
        "            delta = max(delta, np.abs(current_v - v_value[s]))\n",
        "            delta2 = max(delta2, np.abs(current_v - final_v_value[s]))\n",
        "\n",
        "        delta_list.append(delta)\n",
        "        delta_list2.append(delta2)\n",
        "        ######## PUT YOUR CODE HERE ########\n",
        "        num_iteration += 1\n",
        "        if delta < theta:\n",
        "            break\n",
        "    optimal_v_value = v_value\n",
        "\n",
        "\n",
        "    # Compute optimal Q from optimal V\n",
        "    optimal_q_value = np.zeros(shape=(num_states, num_actions))\n",
        "    ######## PUT YOUR CODE HERE ########\n",
        "\n",
        "        # Loop through each state and action\n",
        "    for s in range(num_states):\n",
        "        for a in range(num_actions):\n",
        "\n",
        "            # Initialize sum\n",
        "            sum3 = 0\n",
        "\n",
        "            # Loop through each next possible state\n",
        "            for s_prime, prob in enumerate(transition_fn[s, a, :]):\n",
        "\n",
        "                # Calculate sum\n",
        "                sum3 += prob * optimal_v_value[s_prime]\n",
        "\n",
        "            # Update q_value\n",
        "            optimal_q_value[s, a] = sum(np.multiply(reward_fn[s, a, :], transition_fn[s, a, :])) + (gamma * sum3)\n",
        "\n",
        "\n",
        "    ######## PUT YOUR CODE HERE ########\n",
        "\n",
        "    # Compute optimal policy from optimal Q\n",
        "    optimal_policy = np.zeros(shape=(num_states, num_actions))\n",
        "    for s in range(num_states):\n",
        "        optimal_action_in_s = optimal_q_value[s].argmax()\n",
        "        optimal_policy[s, optimal_action_in_s] = 1.\n",
        "\n",
        "    return (optimal_policy, optimal_v_value, delta_list, delta_list2, num_iteration)"
      ]
    },
    {
      "cell_type": "markdown",
      "id": "a935a037",
      "metadata": {
        "id": "a935a037"
      },
      "source": [
        "#### Test Code\n",
        "You can use the test code to check and develop your solution."
      ]
    },
    {
      "cell_type": "code",
      "execution_count": 146,
      "id": "2c727098",
      "metadata": {
        "id": "2c727098"
      },
      "outputs": [],
      "source": [
        "def test_value_iteration(test_v_value, transition_fn, reward_fn, gamma):\n",
        "    \"\"\"Test code for value iteration.\"\"\"\n",
        "    _, optimal_v_value, _, _ = value_iteration(transition_fn, reward_fn, gamma)\n",
        "    try:\n",
        "        assert_almost_equal(test_v_value, optimal_v_value, decimal=2)\n",
        "    except AssertionError:\n",
        "        print(\"The optimal V value for gamma = \" + str(gamma) + \" is incorrect.\")\n",
        "    else:\n",
        "        print(\"The optimal V value for gamma = \" + str(gamma) + \" is correct.\")"
      ]
    },
    {
      "cell_type": "code",
      "execution_count": 147,
      "id": "511daa20",
      "metadata": {
        "id": "511daa20"
      },
      "outputs": [
        {
          "ename": "ValueError",
          "evalue": "too many values to unpack (expected 4)",
          "output_type": "error",
          "traceback": [
            "\u001b[0;31m---------------------------------------------------------------------------\u001b[0m",
            "\u001b[0;31mValueError\u001b[0m                                Traceback (most recent call last)",
            "\u001b[1;32m/Users/kmm12/Documents/documents-main/school/rice/fall_2023/comp_552/HW2/Problems_1,_2,_and_3.ipynb Cell 43\u001b[0m line \u001b[0;36m<cell line: 6>\u001b[0;34m()\u001b[0m\n\u001b[1;32m      <a href='vscode-notebook-cell:/Users/kmm12/Documents/documents-main/school/rice/fall_2023/comp_552/HW2/Problems_1%2C_2%2C_and_3.ipynb#X60sZmlsZQ%3D%3D?line=0'>1</a>\u001b[0m test_v_value_for_gamma_000 \u001b[39m=\u001b[39m np\u001b[39m.\u001b[39marray(\n\u001b[1;32m      <a href='vscode-notebook-cell:/Users/kmm12/Documents/documents-main/school/rice/fall_2023/comp_552/HW2/Problems_1%2C_2%2C_and_3.ipynb#X60sZmlsZQ%3D%3D?line=1'>2</a>\u001b[0m      [\u001b[39m0.\u001b[39m       ,\u001b[39m0.\u001b[39m       ,\u001b[39m0.\u001b[39m       ,\u001b[39m0.\u001b[39m      ,\n\u001b[1;32m      <a href='vscode-notebook-cell:/Users/kmm12/Documents/documents-main/school/rice/fall_2023/comp_552/HW2/Problems_1%2C_2%2C_and_3.ipynb#X60sZmlsZQ%3D%3D?line=2'>3</a>\u001b[0m       \u001b[39m0.\u001b[39m       ,\u001b[39m0.\u001b[39m       ,\u001b[39m0.\u001b[39m       ,\u001b[39m0.\u001b[39m      ,\n\u001b[1;32m      <a href='vscode-notebook-cell:/Users/kmm12/Documents/documents-main/school/rice/fall_2023/comp_552/HW2/Problems_1%2C_2%2C_and_3.ipynb#X60sZmlsZQ%3D%3D?line=3'>4</a>\u001b[0m       \u001b[39m0.\u001b[39m       ,\u001b[39m0.\u001b[39m       ,\u001b[39m0.\u001b[39m       ,\u001b[39m0.\u001b[39m      ,\n\u001b[1;32m      <a href='vscode-notebook-cell:/Users/kmm12/Documents/documents-main/school/rice/fall_2023/comp_552/HW2/Problems_1%2C_2%2C_and_3.ipynb#X60sZmlsZQ%3D%3D?line=4'>5</a>\u001b[0m       \u001b[39m0.\u001b[39m       ,\u001b[39m0.\u001b[39m       ,\u001b[39m0.333333\u001b[39m ,\u001b[39m0.\u001b[39m      ])\n\u001b[0;32m----> <a href='vscode-notebook-cell:/Users/kmm12/Documents/documents-main/school/rice/fall_2023/comp_552/HW2/Problems_1%2C_2%2C_and_3.ipynb#X60sZmlsZQ%3D%3D?line=5'>6</a>\u001b[0m test_value_iteration(test_v_value_for_gamma_000, transition_fn, reward_fn, gamma\u001b[39m=\u001b[39;49m\u001b[39m0.0\u001b[39;49m)\n",
            "\u001b[1;32m/Users/kmm12/Documents/documents-main/school/rice/fall_2023/comp_552/HW2/Problems_1,_2,_and_3.ipynb Cell 43\u001b[0m line \u001b[0;36mtest_value_iteration\u001b[0;34m(test_v_value, transition_fn, reward_fn, gamma)\u001b[0m\n\u001b[1;32m      <a href='vscode-notebook-cell:/Users/kmm12/Documents/documents-main/school/rice/fall_2023/comp_552/HW2/Problems_1%2C_2%2C_and_3.ipynb#X60sZmlsZQ%3D%3D?line=0'>1</a>\u001b[0m \u001b[39mdef\u001b[39;00m \u001b[39mtest_value_iteration\u001b[39m(test_v_value, transition_fn, reward_fn, gamma):\n\u001b[1;32m      <a href='vscode-notebook-cell:/Users/kmm12/Documents/documents-main/school/rice/fall_2023/comp_552/HW2/Problems_1%2C_2%2C_and_3.ipynb#X60sZmlsZQ%3D%3D?line=1'>2</a>\u001b[0m     \u001b[39m\"\"\"Test code for value iteration.\"\"\"\u001b[39;00m\n\u001b[0;32m----> <a href='vscode-notebook-cell:/Users/kmm12/Documents/documents-main/school/rice/fall_2023/comp_552/HW2/Problems_1%2C_2%2C_and_3.ipynb#X60sZmlsZQ%3D%3D?line=2'>3</a>\u001b[0m     _, optimal_v_value, _, _ \u001b[39m=\u001b[39m value_iteration(transition_fn, reward_fn, gamma)\n\u001b[1;32m      <a href='vscode-notebook-cell:/Users/kmm12/Documents/documents-main/school/rice/fall_2023/comp_552/HW2/Problems_1%2C_2%2C_and_3.ipynb#X60sZmlsZQ%3D%3D?line=3'>4</a>\u001b[0m     \u001b[39mtry\u001b[39;00m:\n\u001b[1;32m      <a href='vscode-notebook-cell:/Users/kmm12/Documents/documents-main/school/rice/fall_2023/comp_552/HW2/Problems_1%2C_2%2C_and_3.ipynb#X60sZmlsZQ%3D%3D?line=4'>5</a>\u001b[0m         assert_almost_equal(test_v_value, optimal_v_value, decimal\u001b[39m=\u001b[39m\u001b[39m2\u001b[39m)\n",
            "\u001b[0;31mValueError\u001b[0m: too many values to unpack (expected 4)"
          ]
        }
      ],
      "source": [
        "test_v_value_for_gamma_000 = np.array(\n",
        "     [0.       ,0.       ,0.       ,0.      ,\n",
        "      0.       ,0.       ,0.       ,0.      ,\n",
        "      0.       ,0.       ,0.       ,0.      ,\n",
        "      0.       ,0.       ,0.333333 ,0.      ])\n",
        "test_value_iteration(test_v_value_for_gamma_000, transition_fn, reward_fn, gamma=0.0)"
      ]
    },
    {
      "cell_type": "code",
      "execution_count": null,
      "id": "b88a7cee",
      "metadata": {
        "id": "b88a7cee"
      },
      "outputs": [
        {
          "name": "stdout",
          "output_type": "stream",
          "text": [
            "The optimal V value for gamma = 0.9 is correct.\n"
          ]
        }
      ],
      "source": [
        "test_v_value_for_gamma_090 = np.array(\n",
        "    [0.068886 ,0.061411 ,0.074408 ,0.055805,\n",
        "     0.091851 ,0.       ,0.112207 ,0.      ,\n",
        "     0.145434 ,0.247496 ,0.299617 ,0.      ,\n",
        "     0.       ,0.379935 ,0.63902  ,0.      ])\n",
        "test_value_iteration(test_v_value_for_gamma_090, transition_fn, reward_fn, gamma=0.9)"
      ]
    },
    {
      "cell_type": "markdown",
      "id": "ddf5e49c",
      "metadata": {
        "id": "ddf5e49c"
      },
      "source": [
        "A helper function to run and render a policy.\n",
        "Note: The rendering will not work on Google Colab."
      ]
    },
    {
      "cell_type": "code",
      "execution_count": 148,
      "id": "e7c90b0e",
      "metadata": {
        "id": "e7c90b0e"
      },
      "outputs": [],
      "source": [
        "def render_policy(policy):\n",
        "    \"\"\"Renders a policy for the Frozen Lake environment.\n",
        "\n",
        "    Args:\n",
        "        policy: A numpy ndarray of shape (num_states, num_actions) denoting\n",
        "            the probability of selecting an action (a) in a given state (s).\n",
        "\n",
        "    Returns:\n",
        "        None\n",
        "    \"\"\"\n",
        "    env = gym.make(\"FrozenLake-v1\", is_slippery=True, render_mode=\"human\")\n",
        "    assert_equal(policy.shape, (env.observation_space.n, env.action_space.n))\n",
        "    state, _ = env.reset()\n",
        "    while True:\n",
        "        action = policy[state].argmax()\n",
        "        next_state, _, is_terminal, _, _ = env.step(action)\n",
        "        if is_terminal:\n",
        "            env.close()\n",
        "            break\n",
        "        state = next_state"
      ]
    },
    {
      "cell_type": "code",
      "execution_count": 149,
      "id": "3b55c082",
      "metadata": {
        "id": "3b55c082"
      },
      "outputs": [
        {
          "ename": "ValueError",
          "evalue": "too many values to unpack (expected 2)",
          "output_type": "error",
          "traceback": [
            "\u001b[0;31m---------------------------------------------------------------------------\u001b[0m",
            "\u001b[0;31mValueError\u001b[0m                                Traceback (most recent call last)",
            "\u001b[1;32m/Users/kmm12/Documents/documents-main/school/rice/fall_2023/comp_552/HW2/Problems_1,_2,_and_3.ipynb Cell 47\u001b[0m line \u001b[0;36m<cell line: 1>\u001b[0;34m()\u001b[0m\n\u001b[0;32m----> <a href='vscode-notebook-cell:/Users/kmm12/Documents/documents-main/school/rice/fall_2023/comp_552/HW2/Problems_1%2C_2%2C_and_3.ipynb#X64sZmlsZQ%3D%3D?line=0'>1</a>\u001b[0m optimal_policy, _ \u001b[39m=\u001b[39m value_iteration(transition_fn, reward_fn, gamma\u001b[39m=\u001b[39m\u001b[39m0.99\u001b[39m)\n\u001b[1;32m      <a href='vscode-notebook-cell:/Users/kmm12/Documents/documents-main/school/rice/fall_2023/comp_552/HW2/Problems_1%2C_2%2C_and_3.ipynb#X64sZmlsZQ%3D%3D?line=1'>2</a>\u001b[0m \u001b[39mtry\u001b[39;00m:\n\u001b[1;32m      <a href='vscode-notebook-cell:/Users/kmm12/Documents/documents-main/school/rice/fall_2023/comp_552/HW2/Problems_1%2C_2%2C_and_3.ipynb#X64sZmlsZQ%3D%3D?line=2'>3</a>\u001b[0m     render_policy(optimal_policy)\n",
            "\u001b[0;31mValueError\u001b[0m: too many values to unpack (expected 2)"
          ]
        }
      ],
      "source": [
        "optimal_policy, _ = value_iteration(transition_fn, reward_fn, gamma=0.99)\n",
        "try:\n",
        "    render_policy(optimal_policy)\n",
        "except Exception as e:\n",
        "    print(e)\n",
        "    print(\"Either your python runtime does not support rendering...\")\n",
        "    print(\"or your pygame installation is incorrect.\")"
      ]
    },
    {
      "cell_type": "markdown",
      "id": "5e70d196",
      "metadata": {
        "id": "5e70d196"
      },
      "source": [
        "#### Grader Code\n",
        "Report the output of the grader code in your pdf submission."
      ]
    },
    {
      "cell_type": "code",
      "execution_count": null,
      "id": "6369f278",
      "metadata": {
        "id": "6369f278"
      },
      "outputs": [
        {
          "name": "stdout",
          "output_type": "stream",
          "text": [
            "The optimal V value for gamma = 0.0 is correct.\n",
            "The optimal V value for gamma = 0.9 is correct.\n"
          ]
        }
      ],
      "source": [
        "test_value_iteration(test_v_value_for_gamma_000, transition_fn, reward_fn, gamma=0.0)\n",
        "test_value_iteration(test_v_value_for_gamma_090, transition_fn, reward_fn, gamma=0.9)"
      ]
    },
    {
      "cell_type": "code",
      "execution_count": null,
      "id": "87c7830a",
      "metadata": {
        "id": "87c7830a"
      },
      "outputs": [
        {
          "data": {
            "image/png": "[encoded data removed]",
            "text/plain": [
              "<Figure size 720x720 with 1 Axes>"
            ]
          },
          "metadata": {
            "needs_background": "light"
          },
          "output_type": "display_data"
        }
      ],
      "source": [
        "def plot_grader_value_iteration():\n",
        "    grader_optimal_policy, grader_optimal_v_value, _, _ = value_iteration(transition_fn, reward_fn, gamma=0.99)\n",
        "\n",
        "    fig, ax = plt.subplots()\n",
        "    im = ax.imshow(grader_optimal_v_value.reshape((1, num_states)), cmap=\"viridis\")\n",
        "\n",
        "    ax.set_xticks(np.arange(num_states))\n",
        "\n",
        "    for s in range(num_states):\n",
        "        text = ax.text(s, 0, round(grader_optimal_v_value[s],3), ha=\"center\", va=\"center\", color=\"w\", fontsize=10)\n",
        "\n",
        "    ax.set_title('V Value of Optimal Policy')\n",
        "    fig.set_size_inches(10., 10.)\n",
        "    fig.tight_layout()\n",
        "    plt.xlabel('State')\n",
        "    plt.ylabel('Value')\n",
        "    plt.show()\n",
        "\n",
        "plot_grader_value_iteration()"
      ]
    },
    {
      "cell_type": "markdown",
      "id": "b707430d",
      "metadata": {
        "id": "b707430d"
      },
      "source": [
        "# Problem 2.2\n",
        "\n",
        "Insert your code to generate the plots here."
      ]
    },
    {
      "cell_type": "code",
      "execution_count": 150,
      "id": "2397939b",
      "metadata": {
        "id": "2397939b"
      },
      "outputs": [
        {
          "ename": "ValueError",
          "evalue": "x and y must have same first dimension, but have shapes (60,) and (611,)",
          "output_type": "error",
          "traceback": [
            "\u001b[0;31m---------------------------------------------------------------------------\u001b[0m",
            "\u001b[0;31mValueError\u001b[0m                                Traceback (most recent call last)",
            "\u001b[1;32m/Users/kmm12/Documents/documents-main/school/rice/fall_2023/comp_552/HW2/Problems_1,_2,_and_3.ipynb Cell 52\u001b[0m line \u001b[0;36m<cell line: 7>\u001b[0;34m()\u001b[0m\n\u001b[1;32m      <a href='vscode-notebook-cell:/Users/kmm12/Documents/documents-main/school/rice/fall_2023/comp_552/HW2/Problems_1%2C_2%2C_and_3.ipynb#Y102sZmlsZQ%3D%3D?line=2'>3</a>\u001b[0m x \u001b[39m=\u001b[39m \u001b[39mrange\u001b[39m(\u001b[39m60\u001b[39m)\n\u001b[1;32m      <a href='vscode-notebook-cell:/Users/kmm12/Documents/documents-main/school/rice/fall_2023/comp_552/HW2/Problems_1%2C_2%2C_and_3.ipynb#Y102sZmlsZQ%3D%3D?line=4'>5</a>\u001b[0m \u001b[39m# _, final_v_value, delta_list, delta_list2, num_iterations = value_iteration(transition_fn, reward_fn, 0.90)\u001b[39;00m\n\u001b[0;32m----> <a href='vscode-notebook-cell:/Users/kmm12/Documents/documents-main/school/rice/fall_2023/comp_552/HW2/Problems_1%2C_2%2C_and_3.ipynb#Y102sZmlsZQ%3D%3D?line=6'>7</a>\u001b[0m plt\u001b[39m.\u001b[39;49mplot(x, delta_list, delta_list2)\n\u001b[1;32m      <a href='vscode-notebook-cell:/Users/kmm12/Documents/documents-main/school/rice/fall_2023/comp_552/HW2/Problems_1%2C_2%2C_and_3.ipynb#Y102sZmlsZQ%3D%3D?line=7'>8</a>\u001b[0m plt\u001b[39m.\u001b[39mxlabel(\u001b[39m'\u001b[39m\u001b[39mIteration\u001b[39m\u001b[39m'\u001b[39m)\n\u001b[1;32m      <a href='vscode-notebook-cell:/Users/kmm12/Documents/documents-main/school/rice/fall_2023/comp_552/HW2/Problems_1%2C_2%2C_and_3.ipynb#Y102sZmlsZQ%3D%3D?line=8'>9</a>\u001b[0m plt\u001b[39m.\u001b[39mylabel(\u001b[39m'\u001b[39m\u001b[39mmax Delta\u001b[39m\u001b[39m'\u001b[39m)\n",
            "File \u001b[0;32m/opt/homebrew/anaconda3/lib/python3.9/site-packages/matplotlib/pyplot.py:2757\u001b[0m, in \u001b[0;36mplot\u001b[0;34m(scalex, scaley, data, *args, **kwargs)\u001b[0m\n\u001b[1;32m   2755\u001b[0m \u001b[39m@_copy_docstring_and_deprecators\u001b[39m(Axes\u001b[39m.\u001b[39mplot)\n\u001b[1;32m   2756\u001b[0m \u001b[39mdef\u001b[39;00m \u001b[39mplot\u001b[39m(\u001b[39m*\u001b[39margs, scalex\u001b[39m=\u001b[39m\u001b[39mTrue\u001b[39;00m, scaley\u001b[39m=\u001b[39m\u001b[39mTrue\u001b[39;00m, data\u001b[39m=\u001b[39m\u001b[39mNone\u001b[39;00m, \u001b[39m*\u001b[39m\u001b[39m*\u001b[39mkwargs):\n\u001b[0;32m-> 2757\u001b[0m     \u001b[39mreturn\u001b[39;00m gca()\u001b[39m.\u001b[39;49mplot(\n\u001b[1;32m   2758\u001b[0m         \u001b[39m*\u001b[39;49margs, scalex\u001b[39m=\u001b[39;49mscalex, scaley\u001b[39m=\u001b[39;49mscaley,\n\u001b[1;32m   2759\u001b[0m         \u001b[39m*\u001b[39;49m\u001b[39m*\u001b[39;49m({\u001b[39m\"\u001b[39;49m\u001b[39mdata\u001b[39;49m\u001b[39m\"\u001b[39;49m: data} \u001b[39mif\u001b[39;49;00m data \u001b[39mis\u001b[39;49;00m \u001b[39mnot\u001b[39;49;00m \u001b[39mNone\u001b[39;49;00m \u001b[39melse\u001b[39;49;00m {}), \u001b[39m*\u001b[39;49m\u001b[39m*\u001b[39;49mkwargs)\n",
            "File \u001b[0;32m/opt/homebrew/anaconda3/lib/python3.9/site-packages/matplotlib/axes/_axes.py:1632\u001b[0m, in \u001b[0;36mAxes.plot\u001b[0;34m(self, scalex, scaley, data, *args, **kwargs)\u001b[0m\n\u001b[1;32m   1390\u001b[0m \u001b[39m\"\"\"\u001b[39;00m\n\u001b[1;32m   1391\u001b[0m \u001b[39mPlot y versus x as lines and/or markers.\u001b[39;00m\n\u001b[1;32m   1392\u001b[0m \n\u001b[0;32m   (...)\u001b[0m\n\u001b[1;32m   1629\u001b[0m \u001b[39m(``'green'``) or hex strings (``'#008000'``).\u001b[39;00m\n\u001b[1;32m   1630\u001b[0m \u001b[39m\"\"\"\u001b[39;00m\n\u001b[1;32m   1631\u001b[0m kwargs \u001b[39m=\u001b[39m cbook\u001b[39m.\u001b[39mnormalize_kwargs(kwargs, mlines\u001b[39m.\u001b[39mLine2D)\n\u001b[0;32m-> 1632\u001b[0m lines \u001b[39m=\u001b[39m [\u001b[39m*\u001b[39m\u001b[39mself\u001b[39m\u001b[39m.\u001b[39m_get_lines(\u001b[39m*\u001b[39margs, data\u001b[39m=\u001b[39mdata, \u001b[39m*\u001b[39m\u001b[39m*\u001b[39mkwargs)]\n\u001b[1;32m   1633\u001b[0m \u001b[39mfor\u001b[39;00m line \u001b[39min\u001b[39;00m lines:\n\u001b[1;32m   1634\u001b[0m     \u001b[39mself\u001b[39m\u001b[39m.\u001b[39madd_line(line)\n",
            "File \u001b[0;32m/opt/homebrew/anaconda3/lib/python3.9/site-packages/matplotlib/axes/_base.py:312\u001b[0m, in \u001b[0;36m_process_plot_var_args.__call__\u001b[0;34m(self, data, *args, **kwargs)\u001b[0m\n\u001b[1;32m    310\u001b[0m     this \u001b[39m+\u001b[39m\u001b[39m=\u001b[39m args[\u001b[39m0\u001b[39m],\n\u001b[1;32m    311\u001b[0m     args \u001b[39m=\u001b[39m args[\u001b[39m1\u001b[39m:]\n\u001b[0;32m--> 312\u001b[0m \u001b[39myield from\u001b[39;00m \u001b[39mself\u001b[39;49m\u001b[39m.\u001b[39;49m_plot_args(this, kwargs)\n",
            "File \u001b[0;32m/opt/homebrew/anaconda3/lib/python3.9/site-packages/matplotlib/axes/_base.py:498\u001b[0m, in \u001b[0;36m_process_plot_var_args._plot_args\u001b[0;34m(self, tup, kwargs, return_kwargs)\u001b[0m\n\u001b[1;32m    495\u001b[0m     \u001b[39mself\u001b[39m\u001b[39m.\u001b[39maxes\u001b[39m.\u001b[39myaxis\u001b[39m.\u001b[39mupdate_units(y)\n\u001b[1;32m    497\u001b[0m \u001b[39mif\u001b[39;00m x\u001b[39m.\u001b[39mshape[\u001b[39m0\u001b[39m] \u001b[39m!=\u001b[39m y\u001b[39m.\u001b[39mshape[\u001b[39m0\u001b[39m]:\n\u001b[0;32m--> 498\u001b[0m     \u001b[39mraise\u001b[39;00m \u001b[39mValueError\u001b[39;00m(\u001b[39mf\u001b[39m\u001b[39m\"\u001b[39m\u001b[39mx and y must have same first dimension, but \u001b[39m\u001b[39m\"\u001b[39m\n\u001b[1;32m    499\u001b[0m                      \u001b[39mf\u001b[39m\u001b[39m\"\u001b[39m\u001b[39mhave shapes \u001b[39m\u001b[39m{\u001b[39;00mx\u001b[39m.\u001b[39mshape\u001b[39m}\u001b[39;00m\u001b[39m and \u001b[39m\u001b[39m{\u001b[39;00my\u001b[39m.\u001b[39mshape\u001b[39m}\u001b[39;00m\u001b[39m\"\u001b[39m)\n\u001b[1;32m    500\u001b[0m \u001b[39mif\u001b[39;00m x\u001b[39m.\u001b[39mndim \u001b[39m>\u001b[39m \u001b[39m2\u001b[39m \u001b[39mor\u001b[39;00m y\u001b[39m.\u001b[39mndim \u001b[39m>\u001b[39m \u001b[39m2\u001b[39m:\n\u001b[1;32m    501\u001b[0m     \u001b[39mraise\u001b[39;00m \u001b[39mValueError\u001b[39;00m(\u001b[39mf\u001b[39m\u001b[39m\"\u001b[39m\u001b[39mx and y can be no greater than 2D, but have \u001b[39m\u001b[39m\"\u001b[39m\n\u001b[1;32m    502\u001b[0m                      \u001b[39mf\u001b[39m\u001b[39m\"\u001b[39m\u001b[39mshapes \u001b[39m\u001b[39m{\u001b[39;00mx\u001b[39m.\u001b[39mshape\u001b[39m}\u001b[39;00m\u001b[39m and \u001b[39m\u001b[39m{\u001b[39;00my\u001b[39m.\u001b[39mshape\u001b[39m}\u001b[39;00m\u001b[39m\"\u001b[39m)\n",
            "\u001b[0;31mValueError\u001b[0m: x and y must have same first dimension, but have shapes (60,) and (611,)"
          ]
        },
        {
          "data": {
            "image/png": "[encoded data removed]",
            "text/plain": [
              "<Figure size 432x288 with 1 Axes>"
            ]
          },
          "metadata": {
            "needs_background": "light"
          },
          "output_type": "display_data"
        }
      ],
      "source": [
        "######## PUT YOUR CODE HERE ########\n",
        "\n",
        "x = range(60)\n",
        "\n",
        "# _, final_v_value, delta_list, delta_list2, num_iterations = value_iteration(transition_fn, reward_fn, 0.90)\n",
        "\n",
        "plt.plot(x, delta_list, delta_list2)\n",
        "plt.xlabel('Iteration')\n",
        "plt.ylabel('max Delta')\n",
        "plt.title('Learning History')\n",
        "plt.legend(['Minus Last Iteration', 'Minus Final Iteration'])\n",
        "\n",
        "plt.savefig('2-2.pdf', dpi=300)\n",
        "\n",
        "######## PUT YOUR CODE HERE ########"
      ]
    },
    {
      "cell_type": "markdown",
      "id": "dcc71078",
      "metadata": {
        "id": "dcc71078"
      },
      "source": [
        "# Problem 2.4\n",
        "\n",
        "Insert your code to generate the plots here."
      ]
    },
    {
      "cell_type": "code",
      "execution_count": 151,
      "id": "fb555d9c",
      "metadata": {
        "id": "fb555d9c"
      },
      "outputs": [
        {
          "data": {
            "image/png": "[encoded data removed]",
            "text/plain": [
              "<Figure size 432x288 with 1 Axes>"
            ]
          },
          "metadata": {
            "needs_background": "light"
          },
          "output_type": "display_data"
        }
      ],
      "source": [
        "######## PUT YOUR CODE HERE ########\n",
        "\n",
        "gamma = [0, 0.1, 0.2, 0.3, 0.4, 0.5, 0.6, 0.7, 0.8, 0.9, 0.95, 0.99]\n",
        "\n",
        "g_list = list()\n",
        "\n",
        "for g in gamma:\n",
        "    _, final_v_value, delta_list, delta_list2, num_iterations = value_iteration(transition_fn, reward_fn, g)\n",
        "    g_list.append(num_iterations)\n",
        "\n",
        "plt.plot(gamma, g_list)\n",
        "plt.xlabel('gamma')\n",
        "plt.ylabel('Iterations')\n",
        "plt.title('Iterations vs gamma')\n",
        "\n",
        "plt.savefig('2-4.pdf', dpi=300)\n",
        "\n",
        "\n",
        "######## PUT YOUR CODE HERE ########"
      ]
    },
    {
      "cell_type": "markdown",
      "id": "bf682ee7",
      "metadata": {
        "id": "bf682ee7"
      },
      "source": [
        "# Problem 2.5"
      ]
    },
    {
      "cell_type": "code",
      "execution_count": 152,
      "id": "4a99cb70",
      "metadata": {
        "id": "4a99cb70"
      },
      "outputs": [],
      "source": [
        "guess_policy = np.array(\n",
        "       [[1., 0., 0., 0.],\n",
        "        [0., 0., 0., 1.],\n",
        "        [1., 0., 0., 0.],\n",
        "        [0., 0., 0., 1.],\n",
        "        [1., 0., 0., 0.],\n",
        "        [1., 0., 0., 0.],\n",
        "        [1., 0., 0., 0.],\n",
        "        [1., 0., 0., 0.],\n",
        "        [0., 0., 0., 1.],\n",
        "        [0., 1., 0., 0.],\n",
        "        [1., 0., 0., 0.],\n",
        "        [1., 0., 0., 0.],\n",
        "        [1., 0., 0., 0.],\n",
        "        [0., 0., 1., 0.],\n",
        "        [0., 1., 0., 0.],\n",
        "        [1., 0., 0., 0.]])"
      ]
    },
    {
      "cell_type": "code",
      "execution_count": 153,
      "id": "db997933",
      "metadata": {
        "id": "db997933"
      },
      "outputs": [],
      "source": [
        "def value_iteration_with_guess_policy(transition_fn, reward_fn, gamma=0.99, theta=1e-6, guess_policy=None):\n",
        "    \"\"\"Implements the value iteration algorithm.\n",
        "\n",
        "    Args:\n",
        "        transition_fn: A numpy ndarray of shape (num_states, num_actions, num_states)\n",
        "            denoting the transition probabilities, T(s, a, s')\n",
        "        reward_fn: A numpy ndarray of shape (num_states, num_actions, num_states)\n",
        "            denoting the reward of R(s, a, s').\n",
        "        gamma: Discount factor.\n",
        "        theta: Threshold for terminating policy evaluation.\n",
        "        guess_policy: A numpy ndarray of shape (num_states, num_actions) denoting\n",
        "            the probability of selecting an action (a) in a given state (s).\n",
        "\n",
        "    Returns:\n",
        "        optimal_policy: A numpy ndarray of shape (num_states, num_actions) denoting\n",
        "            the probability of selecting an action (a) in a given state (s).\n",
        "        optimal_v_value: A numpy ndarray of shape (num_states, ) denoting\n",
        "            the optimal value of each state (s).\n",
        "    \"\"\"\n",
        "    # Ensure input dimensions are consistent.\n",
        "    num_states, num_actions, _ = transition_fn.shape\n",
        "    assert_equal(num_states, transition_fn.shape[2])\n",
        "    assert_equal(reward_fn.shape, transition_fn.shape)\n",
        "\n",
        "    # Initialize value using guess policy\n",
        "    if guess_policy is None:\n",
        "        v_value = np.zeros(shape=(num_states, ))\n",
        "    else:\n",
        "        ######## PUT YOUR CODE HERE ########\n",
        "\n",
        "        v_value = policy_evaluation_v(guess_policy, transition_fn, reward_fn, gamma=0.99, theta=1e-6)\n",
        "\n",
        "        ######## PUT YOUR CODE HERE ########\n",
        "\n",
        "    # Perform value iteration to compute optimal V\n",
        "    num_iteration = 0\n",
        "    while True:\n",
        "        delta = 0\n",
        "        ######## PUT YOUR CODE HERE ########\n",
        "\n",
        "\n",
        "        # Loop through each state\n",
        "        for s in range(num_states):\n",
        "            # Save current value for state\n",
        "            current_v = v_value[s]\n",
        "            # Initialize outer sum\n",
        "            list1 = list()\n",
        "            # Loop through actions\n",
        "            for a in range(num_actions):\n",
        "\n",
        "                sum4 = sum(np.multiply(transition_fn[s, a, :], (reward_fn[s, a, :] + gamma*v_value[:])))\n",
        "\n",
        "                \n",
        "                list1.append(sum4)\n",
        "\n",
        "            # Set new value for state    \n",
        "            v_value[s] = max(list1)\n",
        "            # Calculate delta\n",
        "            delta = max(delta, np.abs(current_v - v_value[s]))\n",
        "\n",
        "\n",
        "        delta_list.append(delta)\n",
        "\n",
        "        ######## PUT YOUR CODE HERE ########\n",
        "        num_iteration += 1\n",
        "        if delta < theta:\n",
        "            break\n",
        "    optimal_v_value = v_value\n",
        "    print(\"Number of iterations = \" + str(num_iteration))\n",
        "\n",
        "    # Compute optimal Q from optimal V\n",
        "    optimal_q_value = np.zeros(shape=(num_states, num_actions))\n",
        "    ######## PUT YOUR CODE HERE ########\n",
        "        # Loop through each state and action\n",
        "    for s in range(num_states):\n",
        "        for a in range(num_actions):\n",
        "\n",
        "            # Initialize sum\n",
        "            sum3 = 0\n",
        "\n",
        "            # Loop through each next possible state\n",
        "            for s_prime, prob in enumerate(transition_fn[s, a, :]):\n",
        "\n",
        "                # Calculate sum\n",
        "                sum3 += prob * optimal_v_value[s_prime]\n",
        "\n",
        "            # Update q_value\n",
        "            optimal_q_value[s, a] = sum(np.multiply(reward_fn[s, a, :], transition_fn[s, a, :])) + (gamma * sum3)\n",
        "\n",
        "\n",
        "    ######## PUT YOUR CODE HERE ########\n",
        "\n",
        "    # Compute optimal policy from optimal Q\n",
        "    optimal_policy = np.zeros(shape=(num_states, num_actions))\n",
        "    for s in range(num_states):\n",
        "        optimal_action_in_s = optimal_q_value[s].argmax()\n",
        "        optimal_policy[s, optimal_action_in_s] = 1.\n",
        "\n",
        "    return (optimal_policy, optimal_v_value)"
      ]
    },
    {
      "cell_type": "markdown",
      "id": "80c03f57",
      "metadata": {
        "id": "80c03f57"
      },
      "source": [
        "#### Grader Code"
      ]
    },
    {
      "cell_type": "code",
      "execution_count": 154,
      "id": "071f0a2e",
      "metadata": {
        "id": "071f0a2e"
      },
      "outputs": [
        {
          "name": "stdout",
          "output_type": "stream",
          "text": [
            "Without guess policy: \n",
            "Number of iterations = 228\n",
            "With guess policy: \n",
            "Number of iterations = 155\n"
          ]
        }
      ],
      "source": [
        "print(\"Without guess policy: \")\n",
        "_ = value_iteration_with_guess_policy(transition_fn, reward_fn, gamma=0.99)\n",
        "\n",
        "print(\"With guess policy: \")\n",
        "_ = value_iteration_with_guess_policy(transition_fn, reward_fn, gamma=0.99, guess_policy=guess_policy)"
      ]
    },
    {
      "cell_type": "markdown",
      "id": "84c25daa",
      "metadata": {
        "id": "84c25daa"
      },
      "source": [
        "# Problem 3.2\n",
        "\n",
        "In this problem, we will use the policy iteration algorithm to compute the optimal policy."
      ]
    },
    {
      "cell_type": "code",
      "execution_count": 155,
      "id": "eb821193",
      "metadata": {
        "id": "eb821193"
      },
      "outputs": [],
      "source": [
        "def policy_iteration(transition_fn, reward_fn, gamma=0.99, theta=1e-6):\n",
        "    \"\"\"Implements the policy iteration algorithm.\n",
        "\n",
        "    Args:\n",
        "        transition_fn: A numpy ndarray of shape (num_states, num_actions, num_states)\n",
        "            denoting the transition probabilities, T(s, a, s')\n",
        "        reward_fn: A numpy ndarray of shape (num_states, num_actions, num_states)\n",
        "            denoting the reward of R(s, a, s').\n",
        "        gamma: Discount factor.\n",
        "\n",
        "    Returns:\n",
        "        optimal_policy: A numpy ndarray of shape (num_states, num_actions) denoting\n",
        "            the probability of selecting an action (a) in a given state (s).\n",
        "    \"\"\"\n",
        "    # Ensure input dimensions are consistent.\n",
        "    num_states, num_actions, _ = transition_fn.shape\n",
        "    assert_equal(num_states, transition_fn.shape[2])\n",
        "    assert_equal(reward_fn.shape, transition_fn.shape)\n",
        "\n",
        "    # Initialize policy\n",
        "    policy = np.zeros(shape=(num_states, num_actions))\n",
        "\n",
        "    # Perform policy iteration to compute optimal V\n",
        "    num_iteration = 0\n",
        "    while True:\n",
        "        delta = 0\n",
        "\n",
        "        # Policy Evaluation\n",
        "        ######## PUT YOUR CODE HERE ########\n",
        "\n",
        "        v_value = policy_evaluation_v(policy, transition_fn, reward_fn, gamma=gamma, theta=1e-6)\n",
        "\n",
        "        ######## PUT YOUR CODE HERE ########\n",
        "\n",
        "        # Policy Improvement\n",
        "        ######## PUT YOUR CODE HERE ########\n",
        "        policy_stable = True\n",
        "        for s in range(num_states):\n",
        "            old_action = np.argmax(policy[s])\n",
        "\n",
        "            sum_list = list()\n",
        "            for a in range(num_actions):    \n",
        "\n",
        "                sum5 = 0\n",
        "                for s_prime, prob in enumerate(transition_fn[s, a, :]):\n",
        "\n",
        "                # Calculate sum\n",
        "                    sum5 += prob * (reward_fn[s, a, s_prime] + gamma*v_value[s_prime])\n",
        "\n",
        "                sum_list.append(sum5)\n",
        "\n",
        "            policy[s] = [0, 0, 0, 0]\n",
        "            \n",
        "            policy[s][np.argmax(sum_list)] = 1\n",
        "\n",
        "            if old_action != np.argmax(policy[s]):\n",
        "                policy_stable = False\n",
        "\n",
        "        ######## PUT YOUR CODE HERE ########\n",
        "\n",
        "        num_iteration += 1\n",
        "\n",
        "        \n",
        "        # Termination Condition\n",
        "        ######## PUT YOUR CODE HERE ########\n",
        "        if policy_stable:\n",
        "            break\n",
        "        ######## PUT YOUR CODE HERE ########\n",
        "\n",
        "    optimal_policy = policy.copy()\n",
        "    optimal_v_value = policy_evaluation_v(policy, transition_fn, reward_fn, gamma)\n",
        "\n",
        "    return (optimal_policy, optimal_v_value, num_iteration)"
      ]
    },
    {
      "cell_type": "code",
      "execution_count": 156,
      "id": "dc82b5d5",
      "metadata": {},
      "outputs": [
        {
          "data": {
            "text/plain": [
              "0"
            ]
          },
          "execution_count": 156,
          "metadata": {},
          "output_type": "execute_result"
        }
      ],
      "source": [
        "policy = np.zeros(shape=(num_states, num_actions))\n",
        "np.argmax(guess_policy[2, :])"
      ]
    },
    {
      "cell_type": "markdown",
      "id": "042f4fe3",
      "metadata": {
        "id": "042f4fe3"
      },
      "source": [
        "#### Test Code"
      ]
    },
    {
      "cell_type": "code",
      "execution_count": 160,
      "id": "7e8a400c",
      "metadata": {
        "id": "7e8a400c"
      },
      "outputs": [],
      "source": [
        "def test_policy_iteration(test_v_value, transition_fn, reward_fn, gamma):\n",
        "    \"\"\"Test code for policy iteration.\"\"\"\n",
        "    _, optimal_v_value, num_iters = policy_iteration(transition_fn, reward_fn, gamma)\n",
        "    try:\n",
        "        assert_almost_equal(test_v_value, optimal_v_value, decimal=2)\n",
        "    except AssertionError:\n",
        "        print(\"The optimal V value for gamma = \" + str(gamma) + \" is incorrect.\")\n",
        "    else:\n",
        "        print(\"The optimal V value for gamma = \" + str(gamma) + \" is correct.\")"
      ]
    },
    {
      "cell_type": "code",
      "execution_count": 161,
      "id": "792d9b04",
      "metadata": {
        "id": "792d9b04"
      },
      "outputs": [
        {
          "name": "stdout",
          "output_type": "stream",
          "text": [
            "The optimal V value for gamma = 0.0 is correct.\n"
          ]
        }
      ],
      "source": [
        "test_v_value_for_gamma_000 = np.array(\n",
        "     [0.       ,0.       ,0.       ,0.      ,\n",
        "      0.       ,0.       ,0.       ,0.      ,\n",
        "      0.       ,0.       ,0.       ,0.      ,\n",
        "      0.       ,0.       ,0.333333 ,0.      ])\n",
        "test_policy_iteration(test_v_value_for_gamma_000, transition_fn, reward_fn, gamma=0.0)"
      ]
    },
    {
      "cell_type": "code",
      "execution_count": 162,
      "id": "ac03f27c",
      "metadata": {
        "id": "ac03f27c"
      },
      "outputs": [
        {
          "name": "stdout",
          "output_type": "stream",
          "text": [
            "The optimal V value for gamma = 0.9 is correct.\n"
          ]
        }
      ],
      "source": [
        "test_v_value_for_gamma_090 = np.array(\n",
        "    [0.068886 ,0.061411 ,0.074408 ,0.055805,\n",
        "     0.091851 ,0.       ,0.112207 ,0.      ,\n",
        "     0.145434 ,0.247496 ,0.299617 ,0.      ,\n",
        "     0.       ,0.379935 ,0.63902  ,0.      ])\n",
        "test_policy_iteration(test_v_value_for_gamma_090, transition_fn, reward_fn, gamma=0.9)"
      ]
    },
    {
      "cell_type": "markdown",
      "id": "b5f954fa",
      "metadata": {
        "id": "b5f954fa"
      },
      "source": [
        "#### Grader Code"
      ]
    },
    {
      "cell_type": "code",
      "execution_count": 163,
      "id": "be4f7840",
      "metadata": {
        "id": "be4f7840"
      },
      "outputs": [
        {
          "name": "stdout",
          "output_type": "stream",
          "text": [
            "The optimal V value for gamma = 0.0 is correct.\n",
            "The optimal V value for gamma = 0.9 is correct.\n"
          ]
        }
      ],
      "source": [
        "test_policy_iteration(test_v_value_for_gamma_000, transition_fn, reward_fn, gamma=0.0)\n",
        "test_policy_iteration(test_v_value_for_gamma_090, transition_fn, reward_fn, gamma=0.9)"
      ]
    },
    {
      "cell_type": "code",
      "execution_count": 167,
      "id": "a16c00d7",
      "metadata": {
        "id": "a16c00d7"
      },
      "outputs": [
        {
          "data": {
            "image/png": "[encoded data removed]",
            "text/plain": [
              "<Figure size 720x720 with 1 Axes>"
            ]
          },
          "metadata": {
            "needs_background": "light"
          },
          "output_type": "display_data"
        },
        {
          "name": "stdout",
          "output_type": "stream",
          "text": [
            "7\n"
          ]
        }
      ],
      "source": [
        "def plot_grader_policy_iteration():\n",
        "    grader_optimal_policy, grader_optimal_v_value, num_iters = policy_iteration(transition_fn, reward_fn, gamma=0.99)\n",
        "\n",
        "    fig, ax = plt.subplots()\n",
        "    im = ax.imshow(grader_optimal_v_value.reshape((1, num_states)), cmap=\"viridis\")\n",
        "\n",
        "    ax.set_xticks(np.arange(num_states))\n",
        "\n",
        "    for s in range(num_states):\n",
        "        text = ax.text(s, 0, round(grader_optimal_v_value[s],3), ha=\"center\", va=\"center\", color=\"w\", fontsize=10)\n",
        "\n",
        "    ax.set_title('V Value of Optimal Policy')\n",
        "    fig.set_size_inches(10., 10.)\n",
        "    fig.tight_layout()\n",
        "    plt.xlabel('State')\n",
        "    plt.ylabel('Value')\n",
        "    plt.show()\n",
        "    print(num_iters)\n",
        "\n",
        "plot_grader_policy_iteration()"
      ]
    },
    {
      "cell_type": "markdown",
      "id": "2001e270",
      "metadata": {
        "id": "2001e270"
      },
      "source": [
        "## Halfway There!\n",
        "Great! You have now completed the programming component of Problems 1-3."
      ]
    }
  ],
  "metadata": {
    "colab": {
      "provenance": []
    },
    "kernelspec": {
      "display_name": "Python 3 (ipykernel)",
      "language": "python",
      "name": "python3"
    },
    "language_info": {
      "codemirror_mode": {
        "name": "ipython",
        "version": 3
      },
      "file_extension": ".py",
      "mimetype": "text/x-python",
      "name": "python",
      "nbconvert_exporter": "python",
      "pygments_lexer": "ipython3",
      "version": "3.9.18"
    }
  },
  "nbformat": 4,
  "nbformat_minor": 5
}
